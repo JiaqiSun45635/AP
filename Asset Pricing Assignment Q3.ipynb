{
 "cells": [
  {
   "cell_type": "markdown",
   "metadata": {},
   "source": [
    "# Asset Pricing Assignment: Question 3"
   ]
  },
  {
   "cell_type": "code",
   "execution_count": 1,
   "metadata": {},
   "outputs": [],
   "source": [
    "import pandas as pd\n",
    "import numpy as np\n",
    "import datetime as dt\n",
    "import matplotlib.pyplot as plt\n",
    "import scipy\n",
    "from scipy import stats\n",
    "import statsmodels.api as sm\n",
    "from scipy.stats import f\n",
    "from scipy.stats import t"
   ]
  },
  {
   "cell_type": "markdown",
   "metadata": {},
   "source": [
    "3a. Theory-based question."
   ]
  },
  {
   "cell_type": "markdown",
   "metadata": {},
   "source": [
    "3b. Check whether there is any abnormal return variation across portfolios of stocks with different investment growth rates. Estimate the CAPM for each of the 10 portfolios and plot the CAPM $\\alpha$'s against investment deciles."
   ]
  },
  {
   "cell_type": "code",
   "execution_count": null,
   "metadata": {},
   "outputs": [],
   "source": [
    "# read file F-F_Research_Data_Factors.CSV\n",
    "dfff = pd.read_csv('F-F_Research_Data_Factors.CSV', nrows=733, sep=',')\n",
    "\n",
    "# rename column 0 as 'Date'\n",
    "dfff.rename(columns={'Unnamed: 0': 'Date'}, inplace=True)\n",
    "\n",
    "# read Date as integer\n",
    "dfff['Date'] = dfff['Date'].astype(int)\n",
    "\n",
    "dfff.head()"
   ]
  },
  {
   "cell_type": "code",
   "execution_count": null,
   "metadata": {},
   "outputs": [],
   "source": [
    "# read file Portfolios_Formed_on_INV_Cleaned_MktR.CSV\n",
    "dfinv = pd.read_csv('Portfolios_Formed_on_INV_Cleaned_MktR.csv', nrows=734, skiprows=1, sep=',')\n",
    "\n",
    "# rename column 0 as 'Date'\n",
    "dfinv.rename(columns={'Unnamed: 0': 'Date'}, inplace=True)\n",
    "\n",
    "# read Date as integer\n",
    "dfinv['Date'] = dfinv['Date'].astype(int)\n",
    "\n",
    "print('Raw Returns:')\n",
    "print(dfinv.head())\n",
    "\n",
    "print('Excess Returns:')\n",
    "\n",
    "# get excess returns of 10 decile portfolios\n",
    "for column in dfinv.columns[1:-1]:\n",
    "    dfinv[column] = dfinv[column] - dfff['RF']\n",
    "\n",
    "dfinv.head()"
   ]
  },
  {
   "cell_type": "code",
   "execution_count": null,
   "metadata": {},
   "outputs": [],
   "source": [
    "# estimate the CAPM for 10 portfolios\n",
    "CAPM_results = {}\n",
    "\n",
    "# assume homoskedasticity\n",
    "for model in dfinv.columns[9:19]:\n",
    "    x = dfinv[['Mkt-RF']]\n",
    "    x = sm.add_constant(x)\n",
    "    CAPM_results[model] = sm.OLS(dfinv[model], x).fit()\n",
    "\n",
    "CAPM_results"
   ]
  },
  {
   "cell_type": "code",
   "execution_count": null,
   "metadata": {},
   "outputs": [],
   "source": [
    "# extract alphas from regression results\n",
    "alpha_list = []\n",
    "\n",
    "for key in CAPM_results:\n",
    "    a = CAPM_results[key]\n",
    "    alpha_list.append({\"Portfolio\": key, \"Alpha\": round(a.params['const'], 2)})\n",
    "\n",
    "alphas = pd.DataFrame(alpha_list)\n",
    "display(alphas)"
   ]
  },
  {
   "cell_type": "code",
   "execution_count": null,
   "metadata": {},
   "outputs": [],
   "source": [
    "# plot CAPM alphas against investment deciles\n",
    "deciles_list = []\n",
    "x = range(10, 101, 10)\n",
    "for n in x:\n",
    "    deciles_list.append(n)\n",
    "\n",
    "deciles = pd.DataFrame(deciles_list)\n",
    "alpha_plot = pd.concat([deciles, alphas],axis=1,ignore_index=True)\n",
    "alpha_plot = alpha_plot.rename(columns={0: \"Decile\", 1: \"Portfolio\", 2: \"Alpha\"})\n",
    "alpha_plot.drop(['Portfolio'],axis=1,inplace=True)\n",
    "\n",
    "alpha_plot"
   ]
  },
  {
   "cell_type": "code",
   "execution_count": null,
   "metadata": {},
   "outputs": [],
   "source": [
    "# plot CAPM alphas against investment deciles\n",
    "plt.figure(figsize=(8, 5))\n",
    "plt.plot(alpha_plot['Decile'], alpha_plot['Alpha'], marker='o', linestyle='-')\n",
    "\n",
    "plt.xlabel('Investment Decile')\n",
    "plt.ylabel('CAPM Alpha')\n",
    "plt.title('CAPM Alpha against Investment Decile')\n",
    "plt.grid(True)\n",
    "plt.show()"
   ]
  },
  {
   "cell_type": "markdown",
   "metadata": {},
   "source": [
    "3c. Theory-based question."
   ]
  },
  {
   "cell_type": "markdown",
   "metadata": {},
   "source": [
    "3d. Consider the classic Fama-French model and its extension that includes the investment growth factor. Estimate the two models given by eq. (1) and (2) on the 25 portfolios used in Question (1). For each model, report in a table the adjusted R2, α and its corresponding t-statistics. Then, again for each model, report the GRS test statistics and the corresponding p-value. Compare your results for the two models."
   ]
  },
  {
   "cell_type": "code",
   "execution_count": null,
   "metadata": {},
   "outputs": [],
   "source": [
    "# create INV (investment growth factor)\n",
    "dfinv[\"INV\"] = (dfinv[\"Hi 30\"] - dfinv[\"Lo 30\"])\n",
    "\n",
    "dfinv.head()"
   ]
  },
  {
   "cell_type": "code",
   "execution_count": null,
   "metadata": {},
   "outputs": [],
   "source": [
    "# create extended Fama-French Factors matrix\n",
    "dfff_extended = dfff[['Date','SMB','HML','RF']]\n",
    "\n",
    "# add INV column\n",
    "dfff_extended = pd.merge(dfff_extended, dfinv, on=\"Date\")\n",
    "dfff_extended = dfff_extended[[\"Date\",\"Mkt-RF\", \"SMB\", \"HML\", \"INV\",\"RF\"]]\n",
    "\n",
    "dfff.head()"
   ]
  },
  {
   "cell_type": "code",
   "execution_count": null,
   "metadata": {},
   "outputs": [],
   "source": [
    "# read file 25_Portfolios_Cleaned.csv\n",
    "df25p = pd.read_csv('25_Portfolios_Cleaned.csv', nrows=733, sep=',')\n",
    "\n",
    "# rename column 0 as 'Date'\n",
    "df25p.rename(columns={'Unnamed: 0': 'Date'}, inplace=True)\n",
    "\n",
    "# read Date as integer\n",
    "df25p['Date'] = df25p['Date'].astype(int)\n",
    "\n",
    "print('Raw Returns:')\n",
    "print(df25p.head())\n",
    "\n",
    "print('Excess Returns:')\n",
    "\n",
    "# get excess returns for 25 portfolios\n",
    "for column in df25p.columns[1:]:\n",
    "    df25p[column] = df25p[column] - dfff_extended['RF']\n",
    "\n",
    "df25p.head()"
   ]
  },
  {
   "cell_type": "code",
   "execution_count": null,
   "metadata": {},
   "outputs": [],
   "source": [
    "# regression for classic 3-factor Fama-French model\n",
    "FF_classic = {}\n",
    "\n",
    "# assume homoskedasticity\n",
    "for portfolio in df25p.columns[1:]:\n",
    "    x = dfff_extended[['Mkt-RF','SMB','HML']]\n",
    "    x = sm.add_constant(x)\n",
    "    FF_classic[portfolio] = sm.OLS(df25p[portfolio], x).fit()\n",
    "\n",
    "FF_classic"
   ]
  },
  {
   "cell_type": "code",
   "execution_count": null,
   "metadata": {},
   "outputs": [],
   "source": [
    "# regression for Fama-French model with INV\n",
    "FF_extended = {}\n",
    "\n",
    "# assume homoskedasticity\n",
    "for portfolio in df25p.columns[1:]:\n",
    "    x = dfff_extended[['Mkt-RF','SMB','HML','INV']]\n",
    "    x = sm.add_constant(x)\n",
    "    FF_extended[portfolio] = sm.OLS(df25p[portfolio], x).fit()\n",
    "\n",
    "FF_extended"
   ]
  },
  {
   "cell_type": "code",
   "execution_count": null,
   "metadata": {},
   "outputs": [],
   "source": [
    "# report adjusted R-squared, alphas, t-statistics for classic Fama-French model\n",
    "ffclassic_r2_dict = {}\n",
    "ffclassic_alpha_dict = {}\n",
    "ffclassict_const_dict = {}\n",
    "#ffclassict_mktrf_dict = {}\n",
    "#ffclassict_smb_dict = {}\n",
    "#ffclassict_hml_dict = {}\n",
    "\n",
    "for key in FF_classic:\n",
    "    res = FF_classic[key]\n",
    "    ffclassic_r2_dict[key] = round(res.rsquared_adj,5)\n",
    "    ffclassic_alpha_dict[key] = round(res.params['const'], 3)\n",
    "    ffclassict_const_dict[key] = round(res.tvalues['const'], 2)\n",
    "    #ffclassict_mktrf_dict[key] = round(res.tvalues['Mkt-RF'], 2)\n",
    "    #ffclassict_smb_dict[key] = round(res.tvalues['SMB'], 2)\n",
    "    #ffclassict_hml_dict[key] = round(res.tvalues['HML'], 2)\n",
    "\n",
    "ffclassic = pd.DataFrame({\"Adjusted R-squared\": ffclassic_r2_dict, \"Alpha\": ffclassic_alpha_dict, \"t-statistic (Alpha)\": ffclassict_const_dict})\n",
    "ffclassic"
   ]
  },
  {
   "cell_type": "code",
   "execution_count": null,
   "metadata": {},
   "outputs": [],
   "source": [
    "# report adjusted R-squared, alphas, t-statistics for extended Fama-French model with INV regressor\n",
    "ffextended_r2_dict = {}\n",
    "ffextended_alpha_dict = {}\n",
    "ffextendedt_const_dict = {}\n",
    "#ffextendedt_mktrf_dict = {}\n",
    "#ffextendedt_smb_dict = {}\n",
    "#ffextendedt_hml_dict = {}\n",
    "#ffextendedt_inv_dict = {}\n",
    "\n",
    "for key in FF_extended:\n",
    "    res = FF_extended[key]\n",
    "    ffextended_r2_dict[key] = round(res.rsquared_adj,5)\n",
    "    ffextended_alpha_dict[key] = round(res.params['const'], 3)\n",
    "    ffextendedt_const_dict[key] = round(res.tvalues['const'], 2)\n",
    "    #ffextendedt_mktrf_dict[key] = round(res.tvalues['Mkt-RF'], 2)\n",
    "    #ffextendedt_smb_dict[key] = round(res.tvalues['SMB'], 2)\n",
    "    #ffextendedt_hml_dict[key] = round(res.tvalues['HML'], 2)\n",
    "    #ffextendedt_inv_dict[key] = round(res.tvalues['INV'], 2)\n",
    "\n",
    "ffextended = pd.DataFrame({\"Adjusted R-squared\": ffextended_r2_dict, \"Alpha\": ffextended_alpha_dict, \"t-statistic (Alpha)\": ffextendedt_const_dict})\n",
    "ffextended"
   ]
  },
  {
   "cell_type": "code",
   "execution_count": null,
   "metadata": {},
   "outputs": [],
   "source": [
    "# adjusted R^2, alphas, t-statistics for both models\n",
    "dfallstats = pd.DataFrame({\"Classic Model Adjusted R-squared\": ffclassic_r2_dict, \"Classic Model Alpha\": ffclassic_alpha_dict, \"Classic Model t-statistic (Alpha)\": ffclassict_const_dict, \"Extended Model Adjusted R-squared\": ffextended_r2_dict, \"Extended Model Alpha\": ffextended_alpha_dict, \"Extended Model t-statistic (Alpha)\": ffextendedt_const_dict})\n",
    "\n",
    "dfallstats"
   ]
  },
  {
   "cell_type": "code",
   "execution_count": null,
   "metadata": {},
   "outputs": [],
   "source": [
    "significant_counts = (dfallstats['Classic Model t-statistic (Alpha)'].abs() > 1.96).sum()\n",
    "significant_counts"
   ]
  },
  {
   "cell_type": "code",
   "execution_count": null,
   "metadata": {},
   "outputs": [],
   "source": [
    "# GRS test for both models \n",
    "\n",
    "# Fama-French classic model\n",
    "\n",
    "# convert alphas into DataFrame\n",
    "alphahat_classic = pd.DataFrame([ffclassic_alpha_dict])\n",
    "\n",
    "# create var-cov matrix for residuals and invert (25x25)\n",
    "ffclassic_resid =np.zeros((df25p.shape[0],25))\n",
    "i=0\n",
    "for key in FF_classic:\n",
    "    res = FF_classic[key]\n",
    "    ffclassic_resid[:,i] = res.resid\n",
    "    i = i+1\n",
    "\n",
    "sigmahat_classic = np.cov(ffclassic_resid, rowvar=False, bias=True)\n",
    "\n",
    "sigmahat_classic_inv = pd.DataFrame(np.linalg.inv(sigmahat_classic))\n",
    "\n",
    "# create omega hat var-cov matrix for factors and invert (3x3)\n",
    "omegahat_classic_numpy = dfff_extended[[\"Mkt-RF\", \"SMB\", \"HML\"]].to_numpy()\n",
    "\n",
    "# not corrected for bias\n",
    "# omegahat_classic = np.cov(omegahat_classic_numpy, rowvar=False, bias=True)\n",
    "\n",
    "# corrected for bias\n",
    "omegahat_classic = np.cov(omegahat_classic_numpy, rowvar=False)\n",
    "\n",
    "omegahat_classic_inv = pd.DataFrame(np.linalg.inv(omegahat_classic))\n",
    "\n",
    "# create ET(f) column vector\n",
    "mean_mktrf = dfff_extended[\"Mkt-RF\"].mean()\n",
    "mean_smb = dfff_extended[\"SMB\"].mean()\n",
    "mean_hml = dfff_extended[\"HML\"].mean()\n",
    "\n",
    "etf_classic = pd.DataFrame([mean_mktrf,mean_smb,mean_hml])\n",
    "\n",
    "# Fama-French extended model\n",
    "\n",
    "# convert alphas into DataFrame\n",
    "alphahat_extended = pd.DataFrame([ffextended_alpha_dict])\n",
    "\n",
    "# create var-cov matrix for residuals and invert (25x25)\n",
    "ffextended_resid =np.zeros((df25p.shape[0],25))\n",
    "i=0\n",
    "for key in FF_extended:\n",
    "    res = FF_extended[key]\n",
    "    ffextended_resid[:,i] = res.resid\n",
    "    i = i+1\n",
    "\n",
    "sigmahat_extended = np.cov(ffextended_resid, rowvar=False, bias=True)\n",
    "\n",
    "sigmahat_extended_inv = pd.DataFrame(np.linalg.inv(sigmahat_extended))\n",
    "\n",
    "# create omega hat variance matrix and invert (4x4)\n",
    "omegahat_extended_numpy = dfff_extended[[\"Mkt-RF\", \"SMB\", \"HML\",\"INV\"]].to_numpy()\n",
    "\n",
    "# not corrected for bias\n",
    "# omegahat_extended = np.cov(omegahat_extended_numpy, rowvar=False, bias=True)\n",
    "\n",
    "#corrected for bias\n",
    "omegahat_extended = np.cov(omegahat_extended_numpy, rowvar=False)\n",
    "\n",
    "omegahat_extended_inv = pd.DataFrame(np.linalg.inv(omegahat_extended))\n",
    "\n",
    "# create ET(f) column vector\n",
    "mean_mktrf = dfff_extended[\"Mkt-RF\"].mean()\n",
    "mean_smb = dfff_extended[\"SMB\"].mean()\n",
    "mean_hml = dfff_extended[\"HML\"].mean()\n",
    "mean_inv = dfff_extended[\"INV\"].mean()\n",
    "\n",
    "etf_extended = pd.DataFrame([mean_mktrf,mean_smb,mean_hml,mean_inv])\n",
    "\n",
    "\n",
    "# define argument for GRS test stat\n",
    "# N: number of portfolios, K: number of regressors, T: number of periods\n",
    "# .values strips index to avoid matrices not aligned\n",
    "def grs_test(N, K, T, alphahat, sigmahatinv, etf, omegahatinv):\n",
    "    grs_stat = ((T-N-K)/N) * (alphahat.values @ sigmahatinv.values @ alphahat.T.values) / (1 + etf.T @ omegahatinv @ etf)\n",
    "    grs_p_value = 1 - f.cdf(grs_stat, N, T-N-K)\n",
    "    print(round(grs_stat,5))\n",
    "    print(round(grs_p_value.item(),11))\n",
    "    \n",
    "\n",
    "# Fama-French classic model GRS test\n",
    "print(\"F-F Classic Model:\")\n",
    "grs_test(25, 3, df25p.shape[0], alphahat_classic, sigmahat_classic_inv, etf_classic, omegahat_classic_inv)\n",
    "\n",
    "# Fama-French extended model GRS test\n",
    "print(\"F-F Extended Model:\")\n",
    "grs_test(25, 4, df25p.shape[0], alphahat_extended, sigmahat_extended_inv, etf_extended, omegahat_extended_inv)"
   ]
  },
  {
   "cell_type": "code",
   "execution_count": null,
   "metadata": {},
   "outputs": [],
   "source": [
    "# compare mean, variance of 4 F-F model factors\n",
    "\n",
    "for factor in dfff_extended:\n",
    "    print(str(factor))\n",
    "    print(dfff_extended[str(factor)].mean())\n",
    "    print(round(dfff_extended[str(factor)].var(),2))"
   ]
  },
  {
   "cell_type": "code",
   "execution_count": null,
   "metadata": {},
   "outputs": [],
   "source": [
    "df25p.shape"
   ]
  },
  {
   "cell_type": "code",
   "execution_count": null,
   "metadata": {},
   "outputs": [],
   "source": [
    "# betas of INV factor\n",
    "inv_betas_dict = {}\n",
    "inv_betas_se = {}\n",
    "inv_betas_t_manual = {}\n",
    "inv_betas_t_auto = {}\n",
    "inv_betas_p = {}\n",
    "df_t = df25p.shape[0] - 5\n",
    "\n",
    "for key in FF_extended:\n",
    "    res = FF_extended[key]\n",
    "    inv_betas_dict[key] = round(res.params['INV'],5)\n",
    "    inv_betas_se[key] = res.bse['INV']\n",
    "    inv_betas_t_manual[key] = res.params['INV']/res.bse['INV']\n",
    "    inv_betas_t_auto[key] = round(res.tvalues['INV'], 5)\n",
    "    inv_betas_p[key] = t.cdf(res.tvalues['INV'], df=df_t)\n",
    "\n",
    "\n",
    "inv_betas = pd.DataFrame({\"INV Betas\": inv_betas_dict, \"t-statistic (manual)\": inv_betas_t_manual, \"t-statistic (auto)\": inv_betas_t_auto, \"p-value\": inv_betas_p})\n",
    "\n",
    "\n",
    "inv_betas"
   ]
  },
  {
   "cell_type": "code",
   "execution_count": null,
   "metadata": {},
   "outputs": [],
   "source": []
  }
 ],
 "metadata": {
  "kernelspec": {
   "display_name": "base",
   "language": "python",
   "name": "python3"
  },
  "language_info": {
   "codemirror_mode": {
    "name": "ipython",
    "version": 3
   },
   "file_extension": ".py",
   "mimetype": "text/x-python",
   "name": "python",
   "nbconvert_exporter": "python",
   "pygments_lexer": "ipython3",
   "version": "3.12.7"
  }
 },
 "nbformat": 4,
 "nbformat_minor": 2
}
