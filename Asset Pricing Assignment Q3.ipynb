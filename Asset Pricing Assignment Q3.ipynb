{
 "cells": [
  {
   "cell_type": "markdown",
   "metadata": {},
   "source": [
    "# Asset Pricing Assignment: Question 3"
   ]
  },
  {
   "cell_type": "code",
   "execution_count": 2,
   "metadata": {},
   "outputs": [],
   "source": [
    "import pandas as pd\n",
    "import numpy as np\n",
    "import datetime as dt\n",
    "import matplotlib.pyplot as plt\n",
    "import scipy\n",
    "from scipy import stats\n",
    "import statsmodels.api as sm"
   ]
  },
  {
   "cell_type": "markdown",
   "metadata": {},
   "source": [
    "3b. Check whether there is any abnormal return variation across portfolios of stocks with different investment growth rates. Estimate the CAPM for each of the 10 portfolios and plot the CAPM $\\alpha$'s against investment deciles."
   ]
  },
  {
   "cell_type": "code",
   "execution_count": 29,
   "metadata": {},
   "outputs": [
    {
     "data": {
      "text/html": [
       "<div>\n",
       "<style scoped>\n",
       "    .dataframe tbody tr th:only-of-type {\n",
       "        vertical-align: middle;\n",
       "    }\n",
       "\n",
       "    .dataframe tbody tr th {\n",
       "        vertical-align: top;\n",
       "    }\n",
       "\n",
       "    .dataframe thead th {\n",
       "        text-align: right;\n",
       "    }\n",
       "</style>\n",
       "<table border=\"1\" class=\"dataframe\">\n",
       "  <thead>\n",
       "    <tr style=\"text-align: right;\">\n",
       "      <th></th>\n",
       "      <th>Date</th>\n",
       "      <th>Lo 30</th>\n",
       "      <th>Med 40</th>\n",
       "      <th>Hi 30</th>\n",
       "      <th>Lo 20</th>\n",
       "      <th>Qnt 2</th>\n",
       "      <th>Qnt 3</th>\n",
       "      <th>Qnt 4</th>\n",
       "      <th>Hi 20</th>\n",
       "      <th>Lo 10</th>\n",
       "      <th>Dec-02</th>\n",
       "      <th>Dec-03</th>\n",
       "      <th>Dec-04</th>\n",
       "      <th>Dec-05</th>\n",
       "      <th>Dec-06</th>\n",
       "      <th>Dec-07</th>\n",
       "      <th>Dec-08</th>\n",
       "      <th>Dec-09</th>\n",
       "      <th>Hi 10</th>\n",
       "      <th>Mkt-RF</th>\n",
       "    </tr>\n",
       "  </thead>\n",
       "  <tbody>\n",
       "    <tr>\n",
       "      <th>0</th>\n",
       "      <td>196307</td>\n",
       "      <td>-1.14</td>\n",
       "      <td>0.32</td>\n",
       "      <td>0.43</td>\n",
       "      <td>-1.61</td>\n",
       "      <td>-0.11</td>\n",
       "      <td>0.60</td>\n",
       "      <td>0.27</td>\n",
       "      <td>0.55</td>\n",
       "      <td>-2.34</td>\n",
       "      <td>-0.69</td>\n",
       "      <td>-0.12</td>\n",
       "      <td>-0.10</td>\n",
       "      <td>1.04</td>\n",
       "      <td>0.25</td>\n",
       "      <td>0.25</td>\n",
       "      <td>0.30</td>\n",
       "      <td>0.49</td>\n",
       "      <td>0.73</td>\n",
       "      <td>-0.39</td>\n",
       "    </tr>\n",
       "    <tr>\n",
       "      <th>1</th>\n",
       "      <td>196308</td>\n",
       "      <td>5.84</td>\n",
       "      <td>5.02</td>\n",
       "      <td>5.54</td>\n",
       "      <td>6.07</td>\n",
       "      <td>5.35</td>\n",
       "      <td>5.45</td>\n",
       "      <td>4.53</td>\n",
       "      <td>6.47</td>\n",
       "      <td>5.40</td>\n",
       "      <td>6.90</td>\n",
       "      <td>5.34</td>\n",
       "      <td>5.36</td>\n",
       "      <td>5.64</td>\n",
       "      <td>5.30</td>\n",
       "      <td>4.54</td>\n",
       "      <td>4.51</td>\n",
       "      <td>6.05</td>\n",
       "      <td>7.72</td>\n",
       "      <td>5.07</td>\n",
       "    </tr>\n",
       "    <tr>\n",
       "      <th>2</th>\n",
       "      <td>196309</td>\n",
       "      <td>-1.43</td>\n",
       "      <td>-1.09</td>\n",
       "      <td>-1.08</td>\n",
       "      <td>-0.62</td>\n",
       "      <td>-1.39</td>\n",
       "      <td>-2.44</td>\n",
       "      <td>-0.48</td>\n",
       "      <td>-1.33</td>\n",
       "      <td>-0.83</td>\n",
       "      <td>-0.37</td>\n",
       "      <td>-3.21</td>\n",
       "      <td>-0.32</td>\n",
       "      <td>-2.76</td>\n",
       "      <td>-2.18</td>\n",
       "      <td>-0.26</td>\n",
       "      <td>-0.80</td>\n",
       "      <td>-1.15</td>\n",
       "      <td>-1.85</td>\n",
       "      <td>-1.57</td>\n",
       "    </tr>\n",
       "    <tr>\n",
       "      <th>3</th>\n",
       "      <td>196310</td>\n",
       "      <td>2.28</td>\n",
       "      <td>1.70</td>\n",
       "      <td>5.98</td>\n",
       "      <td>2.66</td>\n",
       "      <td>0.93</td>\n",
       "      <td>1.32</td>\n",
       "      <td>3.22</td>\n",
       "      <td>7.39</td>\n",
       "      <td>2.91</td>\n",
       "      <td>2.37</td>\n",
       "      <td>1.41</td>\n",
       "      <td>0.66</td>\n",
       "      <td>0.95</td>\n",
       "      <td>1.61</td>\n",
       "      <td>2.41</td>\n",
       "      <td>4.41</td>\n",
       "      <td>8.41</td>\n",
       "      <td>4.38</td>\n",
       "      <td>2.53</td>\n",
       "    </tr>\n",
       "    <tr>\n",
       "      <th>4</th>\n",
       "      <td>196311</td>\n",
       "      <td>0.39</td>\n",
       "      <td>0.02</td>\n",
       "      <td>-2.04</td>\n",
       "      <td>0.74</td>\n",
       "      <td>-1.12</td>\n",
       "      <td>-1.42</td>\n",
       "      <td>0.88</td>\n",
       "      <td>-3.47</td>\n",
       "      <td>1.85</td>\n",
       "      <td>-0.62</td>\n",
       "      <td>-0.40</td>\n",
       "      <td>-1.53</td>\n",
       "      <td>-1.80</td>\n",
       "      <td>-1.11</td>\n",
       "      <td>1.77</td>\n",
       "      <td>-0.40</td>\n",
       "      <td>-4.39</td>\n",
       "      <td>-0.64</td>\n",
       "      <td>-0.85</td>\n",
       "    </tr>\n",
       "  </tbody>\n",
       "</table>\n",
       "</div>"
      ],
      "text/plain": [
       "     Date  Lo 30  Med 40  Hi 30  Lo 20  Qnt 2  Qnt 3  Qnt 4  Hi 20  Lo 10  \\\n",
       "0  196307  -1.14    0.32   0.43  -1.61  -0.11   0.60   0.27   0.55  -2.34   \n",
       "1  196308   5.84    5.02   5.54   6.07   5.35   5.45   4.53   6.47   5.40   \n",
       "2  196309  -1.43   -1.09  -1.08  -0.62  -1.39  -2.44  -0.48  -1.33  -0.83   \n",
       "3  196310   2.28    1.70   5.98   2.66   0.93   1.32   3.22   7.39   2.91   \n",
       "4  196311   0.39    0.02  -2.04   0.74  -1.12  -1.42   0.88  -3.47   1.85   \n",
       "\n",
       "   Dec-02  Dec-03  Dec-04  Dec-05  Dec-06  Dec-07  Dec-08  Dec-09  Hi 10  \\\n",
       "0   -0.69   -0.12   -0.10    1.04    0.25    0.25    0.30    0.49   0.73   \n",
       "1    6.90    5.34    5.36    5.64    5.30    4.54    4.51    6.05   7.72   \n",
       "2   -0.37   -3.21   -0.32   -2.76   -2.18   -0.26   -0.80   -1.15  -1.85   \n",
       "3    2.37    1.41    0.66    0.95    1.61    2.41    4.41    8.41   4.38   \n",
       "4   -0.62   -0.40   -1.53   -1.80   -1.11    1.77   -0.40   -4.39  -0.64   \n",
       "\n",
       "   Mkt-RF  \n",
       "0   -0.39  \n",
       "1    5.07  \n",
       "2   -1.57  \n",
       "3    2.53  \n",
       "4   -0.85  "
      ]
     },
     "execution_count": 29,
     "metadata": {},
     "output_type": "execute_result"
    }
   ],
   "source": [
    "# read file Portfolios_Formed_on_INV_Cleaned_MktR.CSV\n",
    "dfinv = pd.read_csv('Portfolios_Formed_on_INV_Cleaned_MktR.CSV', nrows=734, skiprows=1, sep=',')\n",
    "\n",
    "# rename column 0 as 'Date'\n",
    "dfinv.rename(columns={'Unnamed: 0': 'Date'}, inplace=True)\n",
    "\n",
    "# read Date as integer\n",
    "dfinv['Date'] = dfinv['Date'].astype(int)\n",
    "\n",
    "dfinv.head()"
   ]
  },
  {
   "cell_type": "code",
   "execution_count": 36,
   "metadata": {},
   "outputs": [
    {
     "data": {
      "text/plain": [
       "{'Lo 10': <statsmodels.regression.linear_model.RegressionResultsWrapper at 0x16853eae0>,\n",
       " 'Dec-02': <statsmodels.regression.linear_model.RegressionResultsWrapper at 0x177819ac0>,\n",
       " 'Dec-03': <statsmodels.regression.linear_model.RegressionResultsWrapper at 0x16853e750>,\n",
       " 'Dec-04': <statsmodels.regression.linear_model.RegressionResultsWrapper at 0x17781f290>,\n",
       " 'Dec-05': <statsmodels.regression.linear_model.RegressionResultsWrapper at 0x17781f6e0>,\n",
       " 'Dec-06': <statsmodels.regression.linear_model.RegressionResultsWrapper at 0x17781cec0>,\n",
       " 'Dec-07': <statsmodels.regression.linear_model.RegressionResultsWrapper at 0x17781d6d0>,\n",
       " 'Dec-08': <statsmodels.regression.linear_model.RegressionResultsWrapper at 0x17781dc40>,\n",
       " 'Dec-09': <statsmodels.regression.linear_model.RegressionResultsWrapper at 0x177821130>,\n",
       " 'Hi 10': <statsmodels.regression.linear_model.RegressionResultsWrapper at 0x1778211f0>}"
      ]
     },
     "execution_count": 36,
     "metadata": {},
     "output_type": "execute_result"
    }
   ],
   "source": [
    "# estimate the CAPM for 10 portfolios\n",
    "CAPM_results = {}\n",
    "\n",
    "# assume homoskedasticity\n",
    "for model in dfinv.columns[9:19]:\n",
    "    x = dfinv[['Mkt-RF']]\n",
    "    x = sm.add_constant(x)\n",
    "    CAPM_results[model] = sm.OLS(dfinv[model], x).fit()\n",
    "\n",
    "CAPM_results\n"
   ]
  },
  {
   "cell_type": "code",
   "execution_count": 48,
   "metadata": {},
   "outputs": [
    {
     "name": "stdout",
     "output_type": "stream",
     "text": [
      "Lo 10: const     0.540677\n",
      "Mkt-RF    1.070328\n",
      "dtype: float64\n",
      "Dec-02: const     0.592212\n",
      "Mkt-RF    0.956107\n",
      "dtype: float64\n",
      "Dec-03: const     0.569008\n",
      "Mkt-RF    0.877137\n",
      "dtype: float64\n",
      "Dec-04: const     0.468139\n",
      "Mkt-RF    0.870706\n",
      "dtype: float64\n",
      "Dec-05: const     0.475022\n",
      "Mkt-RF    0.872244\n",
      "dtype: float64\n",
      "Dec-06: const     0.421216\n",
      "Mkt-RF    0.922269\n",
      "dtype: float64\n",
      "Dec-07: const     0.435422\n",
      "Mkt-RF    0.919155\n",
      "dtype: float64\n",
      "Dec-08: const     0.416873\n",
      "Mkt-RF    1.014755\n",
      "dtype: float64\n",
      "Dec-09: const     0.352321\n",
      "Mkt-RF    1.123565\n",
      "dtype: float64\n",
      "Hi 10: const     0.071911\n",
      "Mkt-RF    1.278721\n",
      "dtype: float64\n"
     ]
    }
   ],
   "source": [
    "for key, model in CAPM_results.items():\n",
    "    print(f\"{key}: {model.params}\")"
   ]
  },
  {
   "cell_type": "code",
   "execution_count": 59,
   "metadata": {},
   "outputs": [
    {
     "ename": "AttributeError",
     "evalue": "'OLSResults' object has no attribute 'const'",
     "output_type": "error",
     "traceback": [
      "\u001b[0;31m---------------------------------------------------------------------------\u001b[0m",
      "\u001b[0;31mAttributeError\u001b[0m                            Traceback (most recent call last)",
      "Cell \u001b[0;32mIn[59], line 4\u001b[0m\n\u001b[1;32m      2\u001b[0m \u001b[38;5;28;01mfor\u001b[39;00m key \u001b[38;5;129;01min\u001b[39;00m CAPM_results:\n\u001b[1;32m      3\u001b[0m     a \u001b[38;5;241m=\u001b[39m CAPM_results[key]\n\u001b[0;32m----> 4\u001b[0m     alphas \u001b[38;5;241m=\u001b[39m pd\u001b[38;5;241m.\u001b[39mDataFrame({\u001b[38;5;124m\"\u001b[39m\u001b[38;5;124mAlphas\u001b[39m\u001b[38;5;124m\"\u001b[39m: a\u001b[38;5;241m.\u001b[39mconst})\n\u001b[1;32m      6\u001b[0m display(alphas)\n",
      "File \u001b[0;32m/opt/anaconda3/lib/python3.12/site-packages/statsmodels/base/wrapper.py:34\u001b[0m, in \u001b[0;36mResultsWrapper.__getattribute__\u001b[0;34m(self, attr)\u001b[0m\n\u001b[1;32m     31\u001b[0m \u001b[38;5;28;01mexcept\u001b[39;00m \u001b[38;5;167;01mAttributeError\u001b[39;00m:\n\u001b[1;32m     32\u001b[0m     \u001b[38;5;28;01mpass\u001b[39;00m\n\u001b[0;32m---> 34\u001b[0m obj \u001b[38;5;241m=\u001b[39m \u001b[38;5;28mgetattr\u001b[39m(results, attr)\n\u001b[1;32m     35\u001b[0m data \u001b[38;5;241m=\u001b[39m results\u001b[38;5;241m.\u001b[39mmodel\u001b[38;5;241m.\u001b[39mdata\n\u001b[1;32m     36\u001b[0m how \u001b[38;5;241m=\u001b[39m \u001b[38;5;28mself\u001b[39m\u001b[38;5;241m.\u001b[39m_wrap_attrs\u001b[38;5;241m.\u001b[39mget(attr)\n",
      "\u001b[0;31mAttributeError\u001b[0m: 'OLSResults' object has no attribute 'const'"
     ]
    }
   ],
   "source": [
    "# extract alphas from regression results\n",
    "for key in CAPM_results:\n",
    "    a = CAPM_results[key]\n",
    "    alphas = pd.DataFrame({\"Alphas\": a.const})\n",
    "\n",
    "display(alphas)"
   ]
  },
  {
   "cell_type": "code",
   "execution_count": null,
   "metadata": {},
   "outputs": [],
   "source": [
    "# plot CAPM alphas against investment deciles\n"
   ]
  },
  {
   "cell_type": "markdown",
   "metadata": {},
   "source": [
    "3d. [for regression loop see FE exercise 6]"
   ]
  },
  {
   "cell_type": "code",
   "execution_count": null,
   "metadata": {},
   "outputs": [],
   "source": []
  }
 ],
 "metadata": {
  "kernelspec": {
   "display_name": "base",
   "language": "python",
   "name": "python3"
  },
  "language_info": {
   "codemirror_mode": {
    "name": "ipython",
    "version": 3
   },
   "file_extension": ".py",
   "mimetype": "text/x-python",
   "name": "python",
   "nbconvert_exporter": "python",
   "pygments_lexer": "ipython3",
   "version": "3.12.7"
  }
 },
 "nbformat": 4,
 "nbformat_minor": 2
}
