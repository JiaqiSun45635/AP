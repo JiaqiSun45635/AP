{
 "cells": [
  {
   "cell_type": "code",
   "execution_count": 2,
   "metadata": {},
   "outputs": [
    {
     "name": "stdout",
     "output_type": "stream",
     "text": [
      "Requirement already satisfied: pandas in /home/codespace/.local/lib/python3.12/site-packages (2.2.3)\n",
      "Requirement already satisfied: openpyxl in /usr/local/python/3.12.1/lib/python3.12/site-packages (3.1.5)\n",
      "Requirement already satisfied: numpy>=1.26.0 in /home/codespace/.local/lib/python3.12/site-packages (from pandas) (2.2.0)\n",
      "Requirement already satisfied: python-dateutil>=2.8.2 in /home/codespace/.local/lib/python3.12/site-packages (from pandas) (2.9.0.post0)\n",
      "Requirement already satisfied: pytz>=2020.1 in /home/codespace/.local/lib/python3.12/site-packages (from pandas) (2024.2)\n",
      "Requirement already satisfied: tzdata>=2022.7 in /home/codespace/.local/lib/python3.12/site-packages (from pandas) (2024.2)\n",
      "Requirement already satisfied: et-xmlfile in /usr/local/python/3.12.1/lib/python3.12/site-packages (from openpyxl) (2.0.0)\n",
      "Requirement already satisfied: six>=1.5 in /home/codespace/.local/lib/python3.12/site-packages (from python-dateutil>=2.8.2->pandas) (1.17.0)\n",
      "\n",
      "\u001b[1m[\u001b[0m\u001b[34;49mnotice\u001b[0m\u001b[1;39;49m]\u001b[0m\u001b[39;49m A new release of pip is available: \u001b[0m\u001b[31;49m24.3.1\u001b[0m\u001b[39;49m -> \u001b[0m\u001b[32;49m25.0.1\u001b[0m\n",
      "\u001b[1m[\u001b[0m\u001b[34;49mnotice\u001b[0m\u001b[1;39;49m]\u001b[0m\u001b[39;49m To update, run: \u001b[0m\u001b[32;49mpython3 -m pip install --upgrade pip\u001b[0m\n",
      "Requirement already satisfied: tabulate in /usr/local/python/3.12.1/lib/python3.12/site-packages (0.9.0)\n",
      "\n",
      "\u001b[1m[\u001b[0m\u001b[34;49mnotice\u001b[0m\u001b[1;39;49m]\u001b[0m\u001b[39;49m A new release of pip is available: \u001b[0m\u001b[31;49m24.3.1\u001b[0m\u001b[39;49m -> \u001b[0m\u001b[32;49m25.0.1\u001b[0m\n",
      "\u001b[1m[\u001b[0m\u001b[34;49mnotice\u001b[0m\u001b[1;39;49m]\u001b[0m\u001b[39;49m To update, run: \u001b[0m\u001b[32;49mpython3 -m pip install --upgrade pip\u001b[0m\n",
      "Requirement already satisfied: linearmodels in /usr/local/python/3.12.1/lib/python3.12/site-packages (6.1)\n",
      "Requirement already satisfied: numpy<3,>=1.22.3 in /home/codespace/.local/lib/python3.12/site-packages (from linearmodels) (2.2.0)\n",
      "Requirement already satisfied: pandas>=1.4.0 in /home/codespace/.local/lib/python3.12/site-packages (from linearmodels) (2.2.3)\n",
      "Requirement already satisfied: scipy>=1.8.0 in /home/codespace/.local/lib/python3.12/site-packages (from linearmodels) (1.14.1)\n",
      "Requirement already satisfied: statsmodels>=0.13.0 in /usr/local/python/3.12.1/lib/python3.12/site-packages (from linearmodels) (0.14.4)\n",
      "Requirement already satisfied: mypy-extensions>=0.4 in /usr/local/python/3.12.1/lib/python3.12/site-packages (from linearmodels) (1.0.0)\n",
      "Requirement already satisfied: Cython>=3.0.10 in /usr/local/python/3.12.1/lib/python3.12/site-packages (from linearmodels) (3.0.12)\n",
      "Requirement already satisfied: pyhdfe>=0.1 in /usr/local/python/3.12.1/lib/python3.12/site-packages (from linearmodels) (0.2.0)\n",
      "Requirement already satisfied: formulaic>=1.0.0 in /usr/local/python/3.12.1/lib/python3.12/site-packages (from linearmodels) (1.1.1)\n",
      "Requirement already satisfied: setuptools-scm<9.0.0,>=8.0.0 in /usr/local/python/3.12.1/lib/python3.12/site-packages (from setuptools-scm[toml]<9.0.0,>=8.0.0->linearmodels) (8.2.0)\n",
      "Requirement already satisfied: interface-meta>=1.2.0 in /usr/local/python/3.12.1/lib/python3.12/site-packages (from formulaic>=1.0.0->linearmodels) (1.3.0)\n",
      "Requirement already satisfied: typing-extensions>=4.2.0 in /home/codespace/.local/lib/python3.12/site-packages (from formulaic>=1.0.0->linearmodels) (4.12.2)\n",
      "Requirement already satisfied: wrapt>=1.0 in /usr/local/python/3.12.1/lib/python3.12/site-packages (from formulaic>=1.0.0->linearmodels) (1.17.2)\n",
      "Requirement already satisfied: python-dateutil>=2.8.2 in /home/codespace/.local/lib/python3.12/site-packages (from pandas>=1.4.0->linearmodels) (2.9.0.post0)\n",
      "Requirement already satisfied: pytz>=2020.1 in /home/codespace/.local/lib/python3.12/site-packages (from pandas>=1.4.0->linearmodels) (2024.2)\n",
      "Requirement already satisfied: tzdata>=2022.7 in /home/codespace/.local/lib/python3.12/site-packages (from pandas>=1.4.0->linearmodels) (2024.2)\n",
      "Requirement already satisfied: packaging>=20 in /home/codespace/.local/lib/python3.12/site-packages (from setuptools-scm<9.0.0,>=8.0.0->setuptools-scm[toml]<9.0.0,>=8.0.0->linearmodels) (24.2)\n",
      "Requirement already satisfied: setuptools>=61 in /home/codespace/.local/lib/python3.12/site-packages (from setuptools-scm<9.0.0,>=8.0.0->setuptools-scm[toml]<9.0.0,>=8.0.0->linearmodels) (75.6.0)\n",
      "Requirement already satisfied: patsy>=0.5.6 in /usr/local/python/3.12.1/lib/python3.12/site-packages (from statsmodels>=0.13.0->linearmodels) (1.0.1)\n",
      "Requirement already satisfied: six>=1.5 in /home/codespace/.local/lib/python3.12/site-packages (from python-dateutil>=2.8.2->pandas>=1.4.0->linearmodels) (1.17.0)\n",
      "\n",
      "\u001b[1m[\u001b[0m\u001b[34;49mnotice\u001b[0m\u001b[1;39;49m]\u001b[0m\u001b[39;49m A new release of pip is available: \u001b[0m\u001b[31;49m24.3.1\u001b[0m\u001b[39;49m -> \u001b[0m\u001b[32;49m25.0.1\u001b[0m\n",
      "\u001b[1m[\u001b[0m\u001b[34;49mnotice\u001b[0m\u001b[1;39;49m]\u001b[0m\u001b[39;49m To update, run: \u001b[0m\u001b[32;49mpython3 -m pip install --upgrade pip\u001b[0m\n"
     ]
    }
   ],
   "source": [
    "!pip install pandas openpyxl\n",
    "!pip install tabulate\n",
    "!pip install linearmodels"
   ]
  },
  {
   "cell_type": "code",
   "execution_count": 3,
   "metadata": {},
   "outputs": [],
   "source": [
    "import pandas as pd\n",
    "import numpy as np\n",
    "from tabulate import tabulate\n",
    "import statsmodels.api as sm\n",
    "from linearmodels.system import SUR\n",
    "from statsmodels.tsa.api import VAR"
   ]
  },
  {
   "cell_type": "code",
   "execution_count": 4,
   "metadata": {},
   "outputs": [
    {
     "name": "stdout",
     "output_type": "stream",
     "text": [
      "   Calendar Date  Value-Weighted Return-incl. dividends (RY)  \\\n",
      "0       19271231                                    0.328720   \n",
      "1       19281231                                    0.391397   \n",
      "2       19291231                                   -0.150955   \n",
      "3       19301231                                   -0.289005   \n",
      "4       19311231                                   -0.443880   \n",
      "\n",
      "   Value-Weighted Return-excl. dividends (RY)     Level  Dividend        DG  \\\n",
      "0                                    0.266483  1.320979  0.064917  0.170843   \n",
      "1                                    0.337056  1.766222  0.071783  0.105764   \n",
      "2                                   -0.182395  1.444072  0.055530 -0.226421   \n",
      "3                                   -0.321455  0.979868  0.046860 -0.156130   \n",
      "4                                   -0.476975  0.512495  0.032429 -0.307968   \n",
      "\n",
      "        CPI  Real level  Real dividend    Real R   Real DG        DP        DE  \n",
      "0  0.966868    1.366245       0.067142  0.358098  0.196734  0.049143  0.693694  \n",
      "1  0.955690    1.848112       0.075111  0.407671  0.118697  0.040642  0.615942  \n",
      "2  0.961279    1.502241       0.057767 -0.155891 -0.230919  0.038454  0.602484  \n",
      "3  0.899802    1.088982       0.052078 -0.240428 -0.098474  0.047823  1.010309  \n",
      "4  0.815969    0.628082       0.039743 -0.386744 -0.236869  0.063276  1.344262  \n",
      "       Date         r   ln(P/D)       r^A       r_N  count(d)  count(d')  \\\n",
      "0  19600331 -0.067129  4.787657  0.010683 -0.077725         5         58   \n",
      "1  19600630  0.040717  4.785264 -0.003338  0.044328         6         57   \n",
      "2  19600930 -0.051725  4.798068 -0.020178 -0.031751         6         58   \n",
      "3  19601230  0.090152  4.700134  0.041092  0.049153         6         56   \n",
      "4  19610330  0.128478  4.920339  0.005005  0.124064         6         56   \n",
      "\n",
      "   cound(d)+cound(d')  \n",
      "0                  63  \n",
      "1                  63  \n",
      "2                  64  \n",
      "3                  62  \n",
      "4                  62  \n"
     ]
    },
    {
     "name": "stderr",
     "output_type": "stream",
     "text": [
      "/usr/local/python/3.12.1/lib/python3.12/site-packages/openpyxl/worksheet/_reader.py:329: UserWarning: Unknown extension is not supported and will be removed\n",
      "  warn(msg)\n"
     ]
    }
   ],
   "source": [
    "# Load the Excel file\n",
    "file_path = \"Assignment2Data_2025.xlsx\"\n",
    "\n",
    "# Read a specific sheet\n",
    "q1 = pd.read_excel(file_path, sheet_name=\"Q1\", engine='openpyxl')\n",
    "\n",
    "bonus = pd.read_excel(file_path, sheet_name=\"BonusQuestion\", engine='openpyxl')\n",
    "\n",
    "# Display first few rows\n",
    "print(q1.head())\n",
    "print(bonus.head())"
   ]
  },
  {
   "cell_type": "markdown",
   "metadata": {},
   "source": [
    "# 1"
   ]
  },
  {
   "cell_type": "code",
   "execution_count": 5,
   "metadata": {},
   "outputs": [
    {
     "name": "stdout",
     "output_type": "stream",
     "text": [
      "           Mean Total Return  Std Total Return  Mean Dividend Growth  \\\n",
      "1927-2024              0.088             0.198                 0.028   \n",
      "1973-2024              0.080             0.177                 0.034   \n",
      "\n",
      "           Std Dividend Growth  Correlation  \n",
      "1927-2024                0.145        0.637  \n",
      "1973-2024                0.147        0.657  \n"
     ]
    }
   ],
   "source": [
    "data_1973_2024 = q1[q1['Calendar Date'] >= 19731231]\n",
    "\n",
    "# Function to compute statistics\n",
    "def compute_stats(df):\n",
    "    stats = {\n",
    "        \"Mean Total Return\": round(df[\"Real R\"].mean(),3),\n",
    "        \"Std Total Return\": round(df[\"Real R\"].std(),3),\n",
    "        \"Mean Dividend Growth\": round(df[\"Real DG\"].mean(),3),\n",
    "        \"Std Dividend Growth\": round(df[\"Real DG\"].std(),3),\n",
    "        \"Correlation\": round(df[[\"Real R\", \"Real DG\"]].corr().iloc[0, 1],3)\n",
    "    }\n",
    "    return stats\n",
    "\n",
    "# Compute statistics for both periods\n",
    "stats_1927_2024 = compute_stats(q1)\n",
    "stats_1973_2024 = compute_stats(data_1973_2024)\n",
    "\n",
    "# Create a DataFrame to report results\n",
    "report = pd.DataFrame([stats_1927_2024, stats_1973_2024], index=[\"1927-2024\", \"1973-2024\"])\n",
    "print(report)"
   ]
  },
  {
   "cell_type": "code",
   "execution_count": 6,
   "metadata": {},
   "outputs": [
    {
     "name": "stdout",
     "output_type": "stream",
     "text": [
      "Table 1. 1927-2024 and 1973-2024 Total Returns, Net Dividend Growth, and Correlations\n",
      "+--------------------------------+-----------+-----------+\n",
      "|             Metric             | 1927-2024 | 1973-2024 |\n",
      "+--------------------------------+-----------+-----------+\n",
      "|       Mean Total Return        |   0.088   |   0.08    |\n",
      "|      Std Dev Total Return      |   0.198   |   0.177   |\n",
      "|      Mean Dividend Growth      |   0.028   |   0.034   |\n",
      "|    Std Dev Dividend Growth     |   0.145   |   0.147   |\n",
      "| Correlation (Returns & Growth) |   0.637   |   0.657   |\n",
      "+--------------------------------+-----------+-----------+\n"
     ]
    }
   ],
   "source": [
    "table1 = [\n",
    "    [\"Metric\", \"1927-2024\", \"1973-2024\"],\n",
    "    [\"Mean Total Return\", stats_1927_2024['Mean Total Return'], stats_1973_2024['Mean Total Return']],\n",
    "    [\"Std Dev Total Return\", stats_1927_2024['Std Total Return'], stats_1973_2024['Std Total Return']],\n",
    "    [\"Mean Dividend Growth\", stats_1927_2024['Mean Dividend Growth'], stats_1973_2024['Mean Dividend Growth']],\n",
    "    [\"Std Dev Dividend Growth\", stats_1927_2024['Std Dividend Growth'], stats_1973_2024['Std Dividend Growth']],\n",
    "    [\"Correlation (Returns & Growth)\", stats_1927_2024['Correlation'], stats_1973_2024['Correlation']],\n",
    "]\n",
    "\n",
    "# Print table in Markdown format\n",
    "print(\"Table 1. 1927-2024 and 1973-2024 Total Returns, Net Dividend Growth, and Correlations\")\n",
    "print(tabulate(table1, headers=\"firstrow\", tablefmt=\"pretty\"))"
   ]
  },
  {
   "cell_type": "markdown",
   "metadata": {},
   "source": [
    "# 2"
   ]
  },
  {
   "cell_type": "code",
   "execution_count": 7,
   "metadata": {},
   "outputs": [],
   "source": [
    "# 1927-2024\n",
    "# dividend yield\n",
    "X = q1['DP'][:-1].reset_index(drop=True)\n",
    "\n",
    "# real return\n",
    "Y = q1['Real R'][1:].reset_index(drop=True)\n",
    "    \n",
    "# Add constant term for regression\n",
    "X = sm.add_constant(X)\n",
    "    \n",
    "# Run OLS regression, correct for heteroskedasticity\n",
    "model_1927_2024 = sm.OLS(Y, X).fit(cov_type='HC3')"
   ]
  },
  {
   "cell_type": "code",
   "execution_count": 8,
   "metadata": {},
   "outputs": [],
   "source": [
    "a_1927 = model_1927_2024.params['const']\n",
    "b_1927 = model_1927_2024.params['DP']\n",
    "t_stat_a_1927 = model_1927_2024.tvalues['const']\n",
    "t_stat_b_1927 = model_1927_2024.tvalues['DP']\n",
    "adj_r2_1927 = model_1927_2024.rsquared_adj"
   ]
  },
  {
   "cell_type": "code",
   "execution_count": 9,
   "metadata": {},
   "outputs": [],
   "source": [
    "# 1973-2024\n",
    "# dividend yield\n",
    "X = data_1973_2024['DP'][:-1].reset_index(drop=True)\n",
    "\n",
    "# real return\n",
    "Y = data_1973_2024['Real R'][1:].reset_index(drop=True)\n",
    "    \n",
    "# Add constant term for regression\n",
    "X = sm.add_constant(X)\n",
    "    \n",
    "# Run OLS regression\n",
    "model_1973_2024 = sm.OLS(Y, X).fit(cov_type='HC3')"
   ]
  },
  {
   "cell_type": "code",
   "execution_count": 10,
   "metadata": {},
   "outputs": [],
   "source": [
    "a_1973 = model_1973_2024.params['const']\n",
    "b_1973 = model_1973_2024.params['DP']\n",
    "t_stat_a_1973 = model_1973_2024.tvalues['const']\n",
    "t_stat_b_1973 = model_1973_2024.tvalues['DP']\n",
    "adj_r2_1973 = model_1973_2024.rsquared_adj"
   ]
  },
  {
   "cell_type": "code",
   "execution_count": 11,
   "metadata": {},
   "outputs": [
    {
     "name": "stdout",
     "output_type": "stream",
     "text": [
      "Table 2. Regression Results of 1927-2024 and 1973-2024 Real Returns on Dividend Yield\n",
      "+-----------------------------+-----------+-----------+\n",
      "|           Metric            | 1927-2024 | 1973-2024 |\n",
      "+-----------------------------+-----------+-----------+\n",
      "|          Constant           |  -0.005   |   0.03    |\n",
      "|    Constant t-statistics    |  -0.108   |   0.459   |\n",
      "|       Dividend Yield        |   2.469   |   2.023   |\n",
      "| Dividend Yield t-statistics |   1.89    |   1.048   |\n",
      "|     Adjusted R-Squares      |   0.027   |  -0.001   |\n",
      "+-----------------------------+-----------+-----------+\n"
     ]
    }
   ],
   "source": [
    "table2 = [\n",
    "    [\"Metric\", \"1927-2024\", \"1973-2024\"],\n",
    "    [\"Constant\", round(a_1927,3), round(a_1973,3)],\n",
    "    [\"Constant t-statistics\", round(t_stat_a_1927,3), round(t_stat_a_1973,3)],\n",
    "    [\"Dividend Yield\", round(b_1927,3), round(b_1973,3)],\n",
    "    [\"Dividend Yield t-statistics\", round(t_stat_b_1927,3), round(t_stat_b_1973,3)],\n",
    "    [\"Adjusted R-Squares\", round(adj_r2_1927, 3), round(adj_r2_1973, 3)],\n",
    "]\n",
    "\n",
    "# Print table in Markdown format\n",
    "print(\"Table 2. Regression Results of 1927-2024 and 1973-2024 Real Returns on Dividend Yield\")\n",
    "print(tabulate(table2, headers=\"firstrow\", tablefmt=\"pretty\"))"
   ]
  },
  {
   "cell_type": "markdown",
   "metadata": {},
   "source": [
    "# 3"
   ]
  },
  {
   "cell_type": "code",
   "execution_count": 12,
   "metadata": {},
   "outputs": [],
   "source": [
    "# 1927-2024\n",
    "# dividend yield\n",
    "X = q1['DP'][:-1].reset_index(drop=True)\n",
    "\n",
    "# dividend growth\n",
    "Y = q1['Real DG'][1:].reset_index(drop=True)\n",
    "    \n",
    "# Add constant term for regression\n",
    "X = sm.add_constant(X)\n",
    "    \n",
    "# Run OLS regression\n",
    "model_1927_2024 = sm.OLS(Y, X).fit(cov_type='HC3')"
   ]
  },
  {
   "cell_type": "code",
   "execution_count": 13,
   "metadata": {},
   "outputs": [
    {
     "data": {
      "text/html": [
       "<table class=\"simpletable\">\n",
       "<caption>OLS Regression Results</caption>\n",
       "<tr>\n",
       "  <th>Dep. Variable:</th>         <td>Real DG</td>     <th>  R-squared:         </th> <td>   0.001</td>\n",
       "</tr>\n",
       "<tr>\n",
       "  <th>Model:</th>                   <td>OLS</td>       <th>  Adj. R-squared:    </th> <td>  -0.010</td>\n",
       "</tr>\n",
       "<tr>\n",
       "  <th>Method:</th>             <td>Least Squares</td>  <th>  F-statistic:       </th> <td> 0.09096</td>\n",
       "</tr>\n",
       "<tr>\n",
       "  <th>Date:</th>             <td>Sun, 23 Feb 2025</td> <th>  Prob (F-statistic):</th>  <td> 0.764</td> \n",
       "</tr>\n",
       "<tr>\n",
       "  <th>Time:</th>                 <td>22:13:42</td>     <th>  Log-Likelihood:    </th> <td>  50.363</td>\n",
       "</tr>\n",
       "<tr>\n",
       "  <th>No. Observations:</th>      <td>    97</td>      <th>  AIC:               </th> <td>  -96.73</td>\n",
       "</tr>\n",
       "<tr>\n",
       "  <th>Df Residuals:</th>          <td>    95</td>      <th>  BIC:               </th> <td>  -91.58</td>\n",
       "</tr>\n",
       "<tr>\n",
       "  <th>Df Model:</th>              <td>     1</td>      <th>                     </th>     <td> </td>   \n",
       "</tr>\n",
       "<tr>\n",
       "  <th>Covariance Type:</th>         <td>HC3</td>       <th>                     </th>     <td> </td>   \n",
       "</tr>\n",
       "</table>\n",
       "<table class=\"simpletable\">\n",
       "<tr>\n",
       "    <td></td>       <th>coef</th>     <th>std err</th>      <th>z</th>      <th>P>|z|</th>  <th>[0.025</th>    <th>0.975]</th>  \n",
       "</tr>\n",
       "<tr>\n",
       "  <th>const</th> <td>    0.0368</td> <td>    0.040</td> <td>    0.917</td> <td> 0.359</td> <td>   -0.042</td> <td>    0.116</td>\n",
       "</tr>\n",
       "<tr>\n",
       "  <th>DP</th>    <td>   -0.2964</td> <td>    0.983</td> <td>   -0.302</td> <td> 0.763</td> <td>   -2.223</td> <td>    1.630</td>\n",
       "</tr>\n",
       "</table>\n",
       "<table class=\"simpletable\">\n",
       "<tr>\n",
       "  <th>Omnibus:</th>       <td> 3.182</td> <th>  Durbin-Watson:     </th> <td>   2.351</td>\n",
       "</tr>\n",
       "<tr>\n",
       "  <th>Prob(Omnibus):</th> <td> 0.204</td> <th>  Jarque-Bera (JB):  </th> <td>   2.709</td>\n",
       "</tr>\n",
       "<tr>\n",
       "  <th>Skew:</th>          <td> 0.404</td> <th>  Prob(JB):          </th> <td>   0.258</td>\n",
       "</tr>\n",
       "<tr>\n",
       "  <th>Kurtosis:</th>      <td> 3.135</td> <th>  Cond. No.          </th> <td>    65.3</td>\n",
       "</tr>\n",
       "</table><br/><br/>Notes:<br/>[1] Standard Errors are heteroscedasticity robust (HC3)"
      ],
      "text/latex": [
       "\\begin{center}\n",
       "\\begin{tabular}{lclc}\n",
       "\\toprule\n",
       "\\textbf{Dep. Variable:}    &     Real DG      & \\textbf{  R-squared:         } &     0.001   \\\\\n",
       "\\textbf{Model:}            &       OLS        & \\textbf{  Adj. R-squared:    } &    -0.010   \\\\\n",
       "\\textbf{Method:}           &  Least Squares   & \\textbf{  F-statistic:       } &   0.09096   \\\\\n",
       "\\textbf{Date:}             & Sun, 23 Feb 2025 & \\textbf{  Prob (F-statistic):} &    0.764    \\\\\n",
       "\\textbf{Time:}             &     22:13:42     & \\textbf{  Log-Likelihood:    } &    50.363   \\\\\n",
       "\\textbf{No. Observations:} &          97      & \\textbf{  AIC:               } &    -96.73   \\\\\n",
       "\\textbf{Df Residuals:}     &          95      & \\textbf{  BIC:               } &    -91.58   \\\\\n",
       "\\textbf{Df Model:}         &           1      & \\textbf{                     } &             \\\\\n",
       "\\textbf{Covariance Type:}  &       HC3        & \\textbf{                     } &             \\\\\n",
       "\\bottomrule\n",
       "\\end{tabular}\n",
       "\\begin{tabular}{lcccccc}\n",
       "               & \\textbf{coef} & \\textbf{std err} & \\textbf{z} & \\textbf{P$> |$z$|$} & \\textbf{[0.025} & \\textbf{0.975]}  \\\\\n",
       "\\midrule\n",
       "\\textbf{const} &       0.0368  &        0.040     &     0.917  &         0.359        &       -0.042    &        0.116     \\\\\n",
       "\\textbf{DP}    &      -0.2964  &        0.983     &    -0.302  &         0.763        &       -2.223    &        1.630     \\\\\n",
       "\\bottomrule\n",
       "\\end{tabular}\n",
       "\\begin{tabular}{lclc}\n",
       "\\textbf{Omnibus:}       &  3.182 & \\textbf{  Durbin-Watson:     } &    2.351  \\\\\n",
       "\\textbf{Prob(Omnibus):} &  0.204 & \\textbf{  Jarque-Bera (JB):  } &    2.709  \\\\\n",
       "\\textbf{Skew:}          &  0.404 & \\textbf{  Prob(JB):          } &    0.258  \\\\\n",
       "\\textbf{Kurtosis:}      &  3.135 & \\textbf{  Cond. No.          } &     65.3  \\\\\n",
       "\\bottomrule\n",
       "\\end{tabular}\n",
       "%\\caption{OLS Regression Results}\n",
       "\\end{center}\n",
       "\n",
       "Notes: \\newline\n",
       " [1] Standard Errors are heteroscedasticity robust (HC3)"
      ],
      "text/plain": [
       "<class 'statsmodels.iolib.summary.Summary'>\n",
       "\"\"\"\n",
       "                            OLS Regression Results                            \n",
       "==============================================================================\n",
       "Dep. Variable:                Real DG   R-squared:                       0.001\n",
       "Model:                            OLS   Adj. R-squared:                 -0.010\n",
       "Method:                 Least Squares   F-statistic:                   0.09096\n",
       "Date:                Sun, 23 Feb 2025   Prob (F-statistic):              0.764\n",
       "Time:                        22:13:42   Log-Likelihood:                 50.363\n",
       "No. Observations:                  97   AIC:                            -96.73\n",
       "Df Residuals:                      95   BIC:                            -91.58\n",
       "Df Model:                           1                                         \n",
       "Covariance Type:                  HC3                                         \n",
       "==============================================================================\n",
       "                 coef    std err          z      P>|z|      [0.025      0.975]\n",
       "------------------------------------------------------------------------------\n",
       "const          0.0368      0.040      0.917      0.359      -0.042       0.116\n",
       "DP            -0.2964      0.983     -0.302      0.763      -2.223       1.630\n",
       "==============================================================================\n",
       "Omnibus:                        3.182   Durbin-Watson:                   2.351\n",
       "Prob(Omnibus):                  0.204   Jarque-Bera (JB):                2.709\n",
       "Skew:                           0.404   Prob(JB):                        0.258\n",
       "Kurtosis:                       3.135   Cond. No.                         65.3\n",
       "==============================================================================\n",
       "\n",
       "Notes:\n",
       "[1] Standard Errors are heteroscedasticity robust (HC3)\n",
       "\"\"\""
      ]
     },
     "execution_count": 13,
     "metadata": {},
     "output_type": "execute_result"
    }
   ],
   "source": [
    "model_1927_2024.summary()"
   ]
  },
  {
   "cell_type": "code",
   "execution_count": 14,
   "metadata": {},
   "outputs": [],
   "source": [
    "a_1927 = model_1927_2024.params['const']\n",
    "b_1927 = model_1927_2024.params['DP']\n",
    "t_stat_a_1927 = model_1927_2024.tvalues['const']\n",
    "t_stat_b_1927 = model_1927_2024.tvalues['DP']\n",
    "adj_r2_1927 = model_1927_2024.rsquared_adj"
   ]
  },
  {
   "cell_type": "code",
   "execution_count": 15,
   "metadata": {},
   "outputs": [],
   "source": [
    "# 1973-2024\n",
    "# dividend yield\n",
    "X = data_1973_2024['DP'][:-1].reset_index(drop=True)\n",
    "\n",
    "# real dividend growth\n",
    "Y = data_1973_2024['Real DG'][1:].reset_index(drop=True)\n",
    "    \n",
    "# Add constant term for regression\n",
    "X = sm.add_constant(X)\n",
    "    \n",
    "# Run OLS regression\n",
    "model_1973_2024 = sm.OLS(Y, X).fit(cov_type='HC3')"
   ]
  },
  {
   "cell_type": "code",
   "execution_count": 16,
   "metadata": {},
   "outputs": [],
   "source": [
    "a_1973 = model_1973_2024.params['const']\n",
    "b_1973 = model_1973_2024.params['DP']\n",
    "t_stat_a_1973 = model_1973_2024.tvalues['const']\n",
    "t_stat_b_1973 = model_1973_2024.tvalues['DP']\n",
    "adj_r2_1973 = model_1973_2024.rsquared_adj"
   ]
  },
  {
   "cell_type": "code",
   "execution_count": 17,
   "metadata": {},
   "outputs": [
    {
     "name": "stdout",
     "output_type": "stream",
     "text": [
      "Table 3. Regression Results of 1927-2024 and 1973-2024 Real Dividend Growth on Dividend Yield\n",
      "+-----------------------------+-----------+-----------+\n",
      "|           Metric            | 1927-2024 | 1973-2024 |\n",
      "+-----------------------------+-----------+-----------+\n",
      "|          Constant           |   0.037   |   0.044   |\n",
      "|    Constant t-statistics    |   0.917   |   0.755   |\n",
      "|       Dividend Yield        |  -0.296   |  -0.241   |\n",
      "| Dividend Yield t-statistics |  -0.302   |  -0.133   |\n",
      "|     Adjusted R-Squares      |   -0.01   |   -0.02   |\n",
      "+-----------------------------+-----------+-----------+\n"
     ]
    }
   ],
   "source": [
    "table3 = [\n",
    "    [\"Metric\", \"1927-2024\", \"1973-2024\"],\n",
    "    [\"Constant\", round(a_1927,3), round(a_1973,3)],\n",
    "    [\"Constant t-statistics\", round(t_stat_a_1927,3), round(t_stat_a_1973,3)],\n",
    "    [\"Dividend Yield\", round(b_1927,3), round(b_1973,3)],\n",
    "    [\"Dividend Yield t-statistics\", round(t_stat_b_1927,3), round(t_stat_b_1973,3)],\n",
    "    [\"Adjusted R-Squares\", round(adj_r2_1927, 3), round(adj_r2_1973, 3)],\n",
    "]\n",
    "\n",
    "# Print table in Markdown format\n",
    "print(\"Table 3. Regression Results of 1927-2024 and 1973-2024 Real Dividend Growth on Dividend Yield\")\n",
    "print(tabulate(table3, headers=\"firstrow\", tablefmt=\"pretty\"))"
   ]
  },
  {
   "cell_type": "markdown",
   "metadata": {},
   "source": [
    "# 4"
   ]
  },
  {
   "cell_type": "code",
   "execution_count": 18,
   "metadata": {},
   "outputs": [],
   "source": [
    "# 1927-2024\n",
    "# payout ratio\n",
    "X = q1['DE'][:-1].reset_index(drop=True)\n",
    "\n",
    "# dividend growth\n",
    "Y = q1['Real DG'][1:].reset_index(drop=True)\n",
    "    \n",
    "# Add constant term for regression\n",
    "X = sm.add_constant(X)\n",
    "    \n",
    "# Run OLS regression\n",
    "model_1927_2024 = sm.OLS(Y, X).fit(cov_type='HC3')"
   ]
  },
  {
   "cell_type": "code",
   "execution_count": 19,
   "metadata": {},
   "outputs": [
    {
     "data": {
      "text/html": [
       "<table class=\"simpletable\">\n",
       "<caption>OLS Regression Results</caption>\n",
       "<tr>\n",
       "  <th>Dep. Variable:</th>         <td>Real DG</td>     <th>  R-squared:         </th> <td>   0.002</td>\n",
       "</tr>\n",
       "<tr>\n",
       "  <th>Model:</th>                   <td>OLS</td>       <th>  Adj. R-squared:    </th> <td>  -0.008</td>\n",
       "</tr>\n",
       "<tr>\n",
       "  <th>Method:</th>             <td>Least Squares</td>  <th>  F-statistic:       </th> <td> 0.05906</td>\n",
       "</tr>\n",
       "<tr>\n",
       "  <th>Date:</th>             <td>Sun, 23 Feb 2025</td> <th>  Prob (F-statistic):</th>  <td> 0.809</td> \n",
       "</tr>\n",
       "<tr>\n",
       "  <th>Time:</th>                 <td>22:13:42</td>     <th>  Log-Likelihood:    </th> <td>  50.429</td>\n",
       "</tr>\n",
       "<tr>\n",
       "  <th>No. Observations:</th>      <td>    97</td>      <th>  AIC:               </th> <td>  -96.86</td>\n",
       "</tr>\n",
       "<tr>\n",
       "  <th>Df Residuals:</th>          <td>    95</td>      <th>  BIC:               </th> <td>  -91.71</td>\n",
       "</tr>\n",
       "<tr>\n",
       "  <th>Df Model:</th>              <td>     1</td>      <th>                     </th>     <td> </td>   \n",
       "</tr>\n",
       "<tr>\n",
       "  <th>Covariance Type:</th>         <td>HC3</td>       <th>                     </th>     <td> </td>   \n",
       "</tr>\n",
       "</table>\n",
       "<table class=\"simpletable\">\n",
       "<tr>\n",
       "    <td></td>       <th>coef</th>     <th>std err</th>      <th>z</th>      <th>P>|z|</th>  <th>[0.025</th>    <th>0.975]</th>  \n",
       "</tr>\n",
       "<tr>\n",
       "  <th>const</th> <td>    0.0088</td> <td>    0.068</td> <td>    0.129</td> <td> 0.897</td> <td>   -0.125</td> <td>    0.142</td>\n",
       "</tr>\n",
       "<tr>\n",
       "  <th>DE</th>    <td>    0.0312</td> <td>    0.128</td> <td>    0.243</td> <td> 0.808</td> <td>   -0.220</td> <td>    0.283</td>\n",
       "</tr>\n",
       "</table>\n",
       "<table class=\"simpletable\">\n",
       "<tr>\n",
       "  <th>Omnibus:</th>       <td> 2.745</td> <th>  Durbin-Watson:     </th> <td>   2.318</td>\n",
       "</tr>\n",
       "<tr>\n",
       "  <th>Prob(Omnibus):</th> <td> 0.253</td> <th>  Jarque-Bera (JB):  </th> <td>   2.322</td>\n",
       "</tr>\n",
       "<tr>\n",
       "  <th>Skew:</th>          <td> 0.376</td> <th>  Prob(JB):          </th> <td>   0.313</td>\n",
       "</tr>\n",
       "<tr>\n",
       "  <th>Kurtosis:</th>      <td> 3.101</td> <th>  Cond. No.          </th> <td>    5.88</td>\n",
       "</tr>\n",
       "</table><br/><br/>Notes:<br/>[1] Standard Errors are heteroscedasticity robust (HC3)"
      ],
      "text/latex": [
       "\\begin{center}\n",
       "\\begin{tabular}{lclc}\n",
       "\\toprule\n",
       "\\textbf{Dep. Variable:}    &     Real DG      & \\textbf{  R-squared:         } &     0.002   \\\\\n",
       "\\textbf{Model:}            &       OLS        & \\textbf{  Adj. R-squared:    } &    -0.008   \\\\\n",
       "\\textbf{Method:}           &  Least Squares   & \\textbf{  F-statistic:       } &   0.05906   \\\\\n",
       "\\textbf{Date:}             & Sun, 23 Feb 2025 & \\textbf{  Prob (F-statistic):} &    0.809    \\\\\n",
       "\\textbf{Time:}             &     22:13:42     & \\textbf{  Log-Likelihood:    } &    50.429   \\\\\n",
       "\\textbf{No. Observations:} &          97      & \\textbf{  AIC:               } &    -96.86   \\\\\n",
       "\\textbf{Df Residuals:}     &          95      & \\textbf{  BIC:               } &    -91.71   \\\\\n",
       "\\textbf{Df Model:}         &           1      & \\textbf{                     } &             \\\\\n",
       "\\textbf{Covariance Type:}  &       HC3        & \\textbf{                     } &             \\\\\n",
       "\\bottomrule\n",
       "\\end{tabular}\n",
       "\\begin{tabular}{lcccccc}\n",
       "               & \\textbf{coef} & \\textbf{std err} & \\textbf{z} & \\textbf{P$> |$z$|$} & \\textbf{[0.025} & \\textbf{0.975]}  \\\\\n",
       "\\midrule\n",
       "\\textbf{const} &       0.0088  &        0.068     &     0.129  &         0.897        &       -0.125    &        0.142     \\\\\n",
       "\\textbf{DE}    &       0.0312  &        0.128     &     0.243  &         0.808        &       -0.220    &        0.283     \\\\\n",
       "\\bottomrule\n",
       "\\end{tabular}\n",
       "\\begin{tabular}{lclc}\n",
       "\\textbf{Omnibus:}       &  2.745 & \\textbf{  Durbin-Watson:     } &    2.318  \\\\\n",
       "\\textbf{Prob(Omnibus):} &  0.253 & \\textbf{  Jarque-Bera (JB):  } &    2.322  \\\\\n",
       "\\textbf{Skew:}          &  0.376 & \\textbf{  Prob(JB):          } &    0.313  \\\\\n",
       "\\textbf{Kurtosis:}      &  3.101 & \\textbf{  Cond. No.          } &     5.88  \\\\\n",
       "\\bottomrule\n",
       "\\end{tabular}\n",
       "%\\caption{OLS Regression Results}\n",
       "\\end{center}\n",
       "\n",
       "Notes: \\newline\n",
       " [1] Standard Errors are heteroscedasticity robust (HC3)"
      ],
      "text/plain": [
       "<class 'statsmodels.iolib.summary.Summary'>\n",
       "\"\"\"\n",
       "                            OLS Regression Results                            \n",
       "==============================================================================\n",
       "Dep. Variable:                Real DG   R-squared:                       0.002\n",
       "Model:                            OLS   Adj. R-squared:                 -0.008\n",
       "Method:                 Least Squares   F-statistic:                   0.05906\n",
       "Date:                Sun, 23 Feb 2025   Prob (F-statistic):              0.809\n",
       "Time:                        22:13:42   Log-Likelihood:                 50.429\n",
       "No. Observations:                  97   AIC:                            -96.86\n",
       "Df Residuals:                      95   BIC:                            -91.71\n",
       "Df Model:                           1                                         \n",
       "Covariance Type:                  HC3                                         \n",
       "==============================================================================\n",
       "                 coef    std err          z      P>|z|      [0.025      0.975]\n",
       "------------------------------------------------------------------------------\n",
       "const          0.0088      0.068      0.129      0.897      -0.125       0.142\n",
       "DE             0.0312      0.128      0.243      0.808      -0.220       0.283\n",
       "==============================================================================\n",
       "Omnibus:                        2.745   Durbin-Watson:                   2.318\n",
       "Prob(Omnibus):                  0.253   Jarque-Bera (JB):                2.322\n",
       "Skew:                           0.376   Prob(JB):                        0.313\n",
       "Kurtosis:                       3.101   Cond. No.                         5.88\n",
       "==============================================================================\n",
       "\n",
       "Notes:\n",
       "[1] Standard Errors are heteroscedasticity robust (HC3)\n",
       "\"\"\""
      ]
     },
     "execution_count": 19,
     "metadata": {},
     "output_type": "execute_result"
    }
   ],
   "source": [
    "model_1927_2024.summary()"
   ]
  },
  {
   "cell_type": "code",
   "execution_count": 20,
   "metadata": {},
   "outputs": [],
   "source": [
    "a_1927 = model_1927_2024.params['const']\n",
    "b_1927 = model_1927_2024.params['DE']\n",
    "t_stat_a_1927 = model_1927_2024.tvalues['const']\n",
    "t_stat_b_1927 = model_1927_2024.tvalues['DE']\n",
    "adj_r2_1927 = model_1927_2024.rsquared_adj"
   ]
  },
  {
   "cell_type": "code",
   "execution_count": 21,
   "metadata": {},
   "outputs": [],
   "source": [
    "# 1973-2024\n",
    "# dividend yield\n",
    "X = data_1973_2024['DE'][:-1].reset_index(drop=True)\n",
    "\n",
    "# real dividend growth\n",
    "Y = data_1973_2024['Real DG'][1:].reset_index(drop=True)\n",
    "    \n",
    "# Add constant term for regression\n",
    "X = sm.add_constant(X)\n",
    "    \n",
    "# Run OLS regression\n",
    "model_1973_2024 = sm.OLS(Y, X).fit(cov_type='HC3')"
   ]
  },
  {
   "cell_type": "code",
   "execution_count": 22,
   "metadata": {},
   "outputs": [],
   "source": [
    "a_1973 = model_1973_2024.params['const']\n",
    "b_1973 = model_1973_2024.params['DE']\n",
    "t_stat_a_1973 = model_1973_2024.tvalues['const']\n",
    "t_stat_b_1973 = model_1973_2024.tvalues['DE']\n",
    "adj_r2_1973 = model_1973_2024.rsquared_adj"
   ]
  },
  {
   "cell_type": "code",
   "execution_count": 23,
   "metadata": {},
   "outputs": [
    {
     "name": "stdout",
     "output_type": "stream",
     "text": [
      "Table 4. Regression Results of 1927-2024 and 1973-2024 Real Dividend Growth on Payout Ratio\n",
      "+-----------------------------+-----------+-----------+\n",
      "|           Metric            | 1927-2024 | 1973-2024 |\n",
      "+-----------------------------+-----------+-----------+\n",
      "|          Constant           |   0.009   |  -0.023   |\n",
      "|    Constant t-statistics    |   0.129   |  -0.176   |\n",
      "|       Dividend Yield        |   0.031   |   0.129   |\n",
      "| Dividend Yield t-statistics |   0.243   |   0.439   |\n",
      "|     Adjusted R-Squares      |  -0.008   |   0.021   |\n",
      "+-----------------------------+-----------+-----------+\n"
     ]
    }
   ],
   "source": [
    "table4 = [\n",
    "    [\"Metric\", \"1927-2024\", \"1973-2024\"],\n",
    "    [\"Constant\", round(a_1927,3), round(a_1973,3)],\n",
    "    [\"Constant t-statistics\", round(t_stat_a_1927,3), round(t_stat_a_1973,3)],\n",
    "    [\"Dividend Yield\", round(b_1927,3), round(b_1973,3)],\n",
    "    [\"Dividend Yield t-statistics\", round(t_stat_b_1927,3), round(t_stat_b_1973,3)],\n",
    "    [\"Adjusted R-Squares\", round(adj_r2_1927, 3), round(adj_r2_1973, 3)],\n",
    "]\n",
    "\n",
    "# Print table in Markdown format\n",
    "print(\"Table 4. Regression Results of 1927-2024 and 1973-2024 Real Dividend Growth on Payout Ratio\")\n",
    "print(tabulate(table4, headers=\"firstrow\", tablefmt=\"pretty\"))"
   ]
  },
  {
   "cell_type": "markdown",
   "metadata": {},
   "source": [
    "Don't predict because R-square is very small. T-statistics are small and are not significant at 5% significance level. "
   ]
  },
  {
   "cell_type": "markdown",
   "metadata": {},
   "source": [
    "# 5"
   ]
  },
  {
   "cell_type": "code",
   "execution_count": 24,
   "metadata": {},
   "outputs": [],
   "source": [
    "# seemingly unrelated regression\n",
    "\n",
    "# dividend yield\n",
    "X = -np.log(q1['DP'][:-1]).reset_index(drop=True)\n",
    "\n",
    "# dividend growth. Plus 1 because \"Real DG\" is net growth\n",
    "Y1 = np.log(q1['Real DG'][1:]+1).reset_index(drop=True)\n",
    "\n",
    "# dividend yield\n",
    "Y2 = -np.log(q1['DP'][1:]).reset_index(drop=True)\n",
    "\n",
    "# drop NA\n",
    "data = pd.DataFrame({'X': X, 'Y1': Y1, 'Y2': Y2})\n",
    "\n",
    "# Drop rows with any NA values\n",
    "data_cleaned = data.dropna()\n",
    "\n",
    "equations = {\n",
    "    \"eq1\": {\n",
    "        \"dependent\": data_cleaned[\"Y1\"],\n",
    "        \"exog\": sm.add_constant(data_cleaned[\"X\"])\n",
    "    },\n",
    "    \"eq2\": {\n",
    "        \"dependent\": data_cleaned[\"Y2\"],\n",
    "        \"exog\": sm.add_constant(data_cleaned[\"X\"])\n",
    "    }\n",
    "}\n",
    "\n",
    "# Fit SUR model\n",
    "sur_model = SUR(equations)\n",
    "results = sur_model.fit(cov_type='robust')\n",
    "\n",
    "# Extract covariance matrix of betas\n",
    "cov_matrix = results.cov"
   ]
  },
  {
   "cell_type": "code",
   "execution_count": 25,
   "metadata": {},
   "outputs": [
    {
     "data": {
      "application/vnd.microsoft.datawrangler.viewer.v0+json": {
       "columns": [
        {
         "name": "index",
         "rawType": "object",
         "type": "string"
        },
        {
         "name": "eq1_const",
         "rawType": "float64",
         "type": "float"
        },
        {
         "name": "eq1_X",
         "rawType": "float64",
         "type": "float"
        },
        {
         "name": "eq2_const",
         "rawType": "float64",
         "type": "float"
        },
        {
         "name": "eq2_X",
         "rawType": "float64",
         "type": "float"
        }
       ],
       "conversionMethod": "pd.DataFrame",
       "ref": "c172783a-1503-473f-8c2f-32b32a500851",
       "rows": [
        [
         "eq1_const",
         "0.013248194847849646",
         "-0.0038820378052577577",
         "-0.0037326513417524926",
         "0.001073494229717477"
        ],
        [
         "eq1_X",
         "-0.0038820378052577577",
         "0.001154889562247149",
         "0.0010734942297174804",
         "-0.00030997981681029935"
        ],
        [
         "eq2_const",
         "-0.0037326513417524926",
         "0.0010734942297174804",
         "0.01730064420202761",
         "-0.004892229444515351"
        ],
        [
         "eq2_X",
         "0.001073494229717477",
         "-0.00030997981681029935",
         "-0.004892229444515351",
         "0.0014007764224445581"
        ]
       ],
       "shape": {
        "columns": 4,
        "rows": 4
       }
      },
      "text/html": [
       "<div>\n",
       "<style scoped>\n",
       "    .dataframe tbody tr th:only-of-type {\n",
       "        vertical-align: middle;\n",
       "    }\n",
       "\n",
       "    .dataframe tbody tr th {\n",
       "        vertical-align: top;\n",
       "    }\n",
       "\n",
       "    .dataframe thead th {\n",
       "        text-align: right;\n",
       "    }\n",
       "</style>\n",
       "<table border=\"1\" class=\"dataframe\">\n",
       "  <thead>\n",
       "    <tr style=\"text-align: right;\">\n",
       "      <th></th>\n",
       "      <th>eq1_const</th>\n",
       "      <th>eq1_X</th>\n",
       "      <th>eq2_const</th>\n",
       "      <th>eq2_X</th>\n",
       "    </tr>\n",
       "  </thead>\n",
       "  <tbody>\n",
       "    <tr>\n",
       "      <th>eq1_const</th>\n",
       "      <td>0.013248</td>\n",
       "      <td>-0.003882</td>\n",
       "      <td>-0.003733</td>\n",
       "      <td>0.001073</td>\n",
       "    </tr>\n",
       "    <tr>\n",
       "      <th>eq1_X</th>\n",
       "      <td>-0.003882</td>\n",
       "      <td>0.001155</td>\n",
       "      <td>0.001073</td>\n",
       "      <td>-0.000310</td>\n",
       "    </tr>\n",
       "    <tr>\n",
       "      <th>eq2_const</th>\n",
       "      <td>-0.003733</td>\n",
       "      <td>0.001073</td>\n",
       "      <td>0.017301</td>\n",
       "      <td>-0.004892</td>\n",
       "    </tr>\n",
       "    <tr>\n",
       "      <th>eq2_X</th>\n",
       "      <td>0.001073</td>\n",
       "      <td>-0.000310</td>\n",
       "      <td>-0.004892</td>\n",
       "      <td>0.001401</td>\n",
       "    </tr>\n",
       "  </tbody>\n",
       "</table>\n",
       "</div>"
      ],
      "text/plain": [
       "           eq1_const     eq1_X  eq2_const     eq2_X\n",
       "eq1_const   0.013248 -0.003882  -0.003733  0.001073\n",
       "eq1_X      -0.003882  0.001155   0.001073 -0.000310\n",
       "eq2_const  -0.003733  0.001073   0.017301 -0.004892\n",
       "eq2_X       0.001073 -0.000310  -0.004892  0.001401"
      ]
     },
     "execution_count": 25,
     "metadata": {},
     "output_type": "execute_result"
    }
   ],
   "source": [
    "cov_matrix"
   ]
  },
  {
   "cell_type": "code",
   "execution_count": 26,
   "metadata": {},
   "outputs": [
    {
     "name": "stderr",
     "output_type": "stream",
     "text": [
      "/tmp/ipykernel_2700/725268864.py:1: FutureWarning: Series.__getitem__ treating keys as positions is deprecated. In a future version, integer keys will always be treated as labels (consistent with DataFrame behavior). To access a value by position, use `ser.iloc[pos]`\n",
      "  cov_beta = cov_matrix['eq1_X'][3]\n"
     ]
    }
   ],
   "source": [
    "cov_beta = cov_matrix['eq1_X'][3]"
   ]
  },
  {
   "cell_type": "code",
   "execution_count": 27,
   "metadata": {},
   "outputs": [],
   "source": [
    "# equation (7)\n",
    "X = sm.add_constant(data_cleaned['X'])\n",
    "\n",
    "eq7 = sm.OLS(data_cleaned['Y1'], X).fit(cov_type='HC3')\n",
    "\n",
    "a_eq7 = eq7.params['const']\n",
    "b_eq7 = eq7.params['X']\n",
    "t_stat_a_eq7 = eq7.tvalues['const']\n",
    "t_stat_b_eq7 = eq7.tvalues['X']\n",
    "adj_r2_eq7 = eq7.rsquared_adj"
   ]
  },
  {
   "cell_type": "code",
   "execution_count": 28,
   "metadata": {},
   "outputs": [],
   "source": [
    "# equation 8\n",
    "# 1927-2024\n",
    "eq8 = sm.OLS(data_cleaned['Y2'], X).fit(cov_type='HC3')\n",
    "\n",
    "a_eq8 = eq8.params['const']\n",
    "b_eq8 = eq8.params['X']\n",
    "t_stat_a_eq8 = eq8.tvalues['const']\n",
    "t_stat_b_eq8 = eq8.tvalues['X']\n",
    "adj_r2_eq8 = eq8.rsquared_adj"
   ]
  },
  {
   "cell_type": "code",
   "execution_count": 29,
   "metadata": {},
   "outputs": [
    {
     "name": "stdout",
     "output_type": "stream",
     "text": [
      "0.00033943825295333423\n",
      "0.004569922590988625\n",
      "0.1633864956989673\n",
      "0.9555690176402327\n"
     ]
    }
   ],
   "source": [
    "print(a_eq7)\n",
    "print(b_eq7)\n",
    "print(a_eq8)\n",
    "print(b_eq8)"
   ]
  },
  {
   "cell_type": "markdown",
   "metadata": {},
   "source": [
    "\\begin{align*}\n",
    "Var(\\beta_{pd,r}^{Null})&=Var(-(1-\\hat{\\beta}_{pd,\\Delta d}-\\rho\\hat{\\beta}_{pd,pd+1}))\\\\\n",
    "&=Var(1-\\hat{\\beta}_{pd,\\Delta d}-\\rho\\hat{\\beta}_{pd,pd+1})\\\\\n",
    "&=Var(1)+Var(\\beta_{pd,\\Delta d})+\\rho^2 Var(\\beta_{pd,pd+1})+2\\rho Cov(\\beta_{pd,\\Delta d},\\beta_{pd,pd+1})\n",
    "\\end{align*}"
   ]
  },
  {
   "cell_type": "code",
   "execution_count": 30,
   "metadata": {},
   "outputs": [],
   "source": [
    "b_se_eq7 = eq7.bse['X']\n",
    "b_se_eq8 = eq8.bse['X']"
   ]
  },
  {
   "cell_type": "code",
   "execution_count": 31,
   "metadata": {},
   "outputs": [],
   "source": [
    "b_var_eq6 = b_se_eq7 ** 2 + (0.94 * b_se_eq8) ** 2 + 2 * 0.94 * cov_beta"
   ]
  },
  {
   "cell_type": "code",
   "execution_count": 32,
   "metadata": {},
   "outputs": [],
   "source": [
    "b_eq6 = -(1-b_eq7-0.94*b_eq8)\n",
    "t_stat_b_eq6 = b_eq6 / (b_var_eq6 ** 0.5)"
   ]
  },
  {
   "cell_type": "code",
   "execution_count": 33,
   "metadata": {},
   "outputs": [
    {
     "name": "stderr",
     "output_type": "stream",
     "text": [
      "/home/codespace/.local/lib/python3.12/site-packages/pandas/core/arraylike.py:399: RuntimeWarning: invalid value encountered in log\n",
      "  result = getattr(ufunc, method)(*inputs, **kwargs)\n"
     ]
    }
   ],
   "source": [
    "diff_eq6 = np.log(q1['Real R'][1:]).reset_index(drop=True) - b_eq6 * -np.log(q1['DP'][:-1]).reset_index(drop=True)\n",
    "a_eq6 = diff_eq6.mean()"
   ]
  },
  {
   "cell_type": "code",
   "execution_count": 34,
   "metadata": {},
   "outputs": [],
   "source": [
    "y = np.log(q1['Real R'][1:]).reset_index(drop=True)\n",
    "\n",
    "pred = a_eq6 + b_eq6 * -np.log(q1['DP'][:-1]).reset_index(drop=True)\n",
    "squared_diff = (y - pred) ** 2\n",
    "sse = squared_diff.sum()\n",
    "\n",
    "mean = y.mean()\n",
    "\n",
    "squared_total = (y - mean) ** 2\n",
    "sst = squared_total.sum()\n",
    "\n",
    "r2 = 1 - sse/sst\n",
    "\n",
    "#calculate adjusted r2\n",
    "n = len(y)\n",
    "adj_r2_eq6 = 1 - ((1 - r2) * (n - 1)) / (n - 1 - 1)"
   ]
  },
  {
   "cell_type": "code",
   "execution_count": 35,
   "metadata": {},
   "outputs": [
    {
     "name": "stdout",
     "output_type": "stream",
     "text": [
      "Table 5. Regression Results of Log Real Return, Real Dividend Growth, and Real P/D on Log Real P/D\n",
      "+-----------------------------+--------+-----------------+----------------+\n",
      "|           Metric            | Return | Dividend Growth | Dividend Yield |\n",
      "+-----------------------------+--------+-----------------+----------------+\n",
      "|          Constant           | -1.498 |       0.0       |     0.163      |\n",
      "|    Constant t-statistics    |        |      0.003      |     1.198      |\n",
      "|       Dividend Yield        | -0.097 |      0.005      |     0.956      |\n",
      "| Dividend Yield t-statistics | -2.177 |      0.13       |     24.596     |\n",
      "|     Adjusted R-Squares      | -0.005 |      -0.01      |     0.891      |\n",
      "+-----------------------------+--------+-----------------+----------------+\n"
     ]
    }
   ],
   "source": [
    "table5 = [\n",
    "    [\"Metric\", \"Return\", \"Dividend Growth\", \"Dividend Yield\"],\n",
    "    [\"Constant\", round(a_eq6,3), round(a_eq7,3), round(a_eq8,3)],\n",
    "    [\"Constant t-statistics\", \"\", round(t_stat_a_eq7,3), round(t_stat_a_eq8,3)],\n",
    "    [\"Dividend Yield\", round(b_eq6,3), round(b_eq7,3), round(b_eq8,3)],\n",
    "    [\"Dividend Yield t-statistics\", round(t_stat_b_eq6,3), round(t_stat_b_eq7,3), round(t_stat_b_eq8,3)],\n",
    "    [\"Adjusted R-Squares\", round(adj_r2_eq6,3), round(adj_r2_eq7,3), round(adj_r2_eq8,3)]\n",
    "]\n",
    "\n",
    "# Print table in Markdown format\n",
    "print(\"Table 5. Regression Results of Log Real Return, Real Dividend Growth, and Real P/D on Log Real P/D\")\n",
    "print(tabulate(table5, headers=\"firstrow\", tablefmt=\"pretty\"))"
   ]
  },
  {
   "cell_type": "markdown",
   "metadata": {},
   "source": [
    "# 6"
   ]
  },
  {
   "cell_type": "code",
   "execution_count": null,
   "metadata": {},
   "outputs": [
    {
     "name": "stderr",
     "output_type": "stream",
     "text": [
      "/home/codespace/.local/lib/python3.12/site-packages/pandas/core/arraylike.py:399: RuntimeWarning: invalid value encountered in log\n",
      "  result = getattr(ufunc, method)(*inputs, **kwargs)\n",
      "/usr/local/python/3.12.1/lib/python3.12/site-packages/statsmodels/tsa/base/tsa_model.py:473: ValueWarning: An unsupported index was provided. As a result, forecasts cannot be generated. To use the model for forecasting, use one of the supported classes of index.\n",
      "  self._init_dates(dates, freq)\n"
     ]
    },
    {
     "ename": "AttributeError",
     "evalue": "'VARResults' object has no attribute 'get_robustcov_results'",
     "output_type": "error",
     "traceback": [
      "\u001b[0;31m---------------------------------------------------------------------------\u001b[0m",
      "\u001b[0;31mAttributeError\u001b[0m                            Traceback (most recent call last)",
      "Cell \u001b[0;32mIn[37], line 6\u001b[0m\n\u001b[1;32m      4\u001b[0m model \u001b[38;5;241m=\u001b[39m VAR(data)\n\u001b[1;32m      5\u001b[0m var_results \u001b[38;5;241m=\u001b[39m model\u001b[38;5;241m.\u001b[39mfit(maxlags\u001b[38;5;241m=\u001b[39m\u001b[38;5;241m1\u001b[39m)  \u001b[38;5;66;03m# Fit the model with lag=1\u001b[39;00m\n\u001b[0;32m----> 6\u001b[0m Var_robust_results \u001b[38;5;241m=\u001b[39m \u001b[43mvar_results\u001b[49m\u001b[38;5;241;43m.\u001b[39;49m\u001b[43mget_robustcov_results\u001b[49m(cov_type\u001b[38;5;241m=\u001b[39m\u001b[38;5;124m'\u001b[39m\u001b[38;5;124mhac\u001b[39m\u001b[38;5;124m'\u001b[39m, maxlags\u001b[38;5;241m=\u001b[39m\u001b[38;5;241m5\u001b[39m)\n\u001b[1;32m      8\u001b[0m \u001b[38;5;66;03m# Extract the coefficients and residual covariance matrix\u001b[39;00m\n\u001b[1;32m      9\u001b[0m A \u001b[38;5;241m=\u001b[39m var_results\u001b[38;5;241m.\u001b[39mcoefs  \u001b[38;5;66;03m# Transition matrix Γ\u001b[39;00m\n",
      "File \u001b[0;32m/usr/local/python/3.12.1/lib/python3.12/site-packages/statsmodels/base/wrapper.py:34\u001b[0m, in \u001b[0;36mResultsWrapper.__getattribute__\u001b[0;34m(self, attr)\u001b[0m\n\u001b[1;32m     31\u001b[0m \u001b[38;5;28;01mexcept\u001b[39;00m \u001b[38;5;167;01mAttributeError\u001b[39;00m:\n\u001b[1;32m     32\u001b[0m     \u001b[38;5;28;01mpass\u001b[39;00m\n\u001b[0;32m---> 34\u001b[0m obj \u001b[38;5;241m=\u001b[39m \u001b[38;5;28;43mgetattr\u001b[39;49m\u001b[43m(\u001b[49m\u001b[43mresults\u001b[49m\u001b[43m,\u001b[49m\u001b[43m \u001b[49m\u001b[43mattr\u001b[49m\u001b[43m)\u001b[49m\n\u001b[1;32m     35\u001b[0m data \u001b[38;5;241m=\u001b[39m results\u001b[38;5;241m.\u001b[39mmodel\u001b[38;5;241m.\u001b[39mdata\n\u001b[1;32m     36\u001b[0m how \u001b[38;5;241m=\u001b[39m \u001b[38;5;28mself\u001b[39m\u001b[38;5;241m.\u001b[39m_wrap_attrs\u001b[38;5;241m.\u001b[39mget(attr)\n",
      "\u001b[0;31mAttributeError\u001b[0m: 'VARResults' object has no attribute 'get_robustcov_results'"
     ]
    }
   ],
   "source": [
    "data = pd.DataFrame({'rt': np.log(q1['Real R']), 'dt': np.log(q1['Real DG']), 'pt-dt': -np.log(q1['DP'])}).dropna()\n",
    "\n",
    "# Fit the VAR model\n",
    "model = VAR(data)\n",
    "var_results = model.fit(maxlags=1)  # Fit the model with lag=1\n",
    "\n",
    "# Extract the coefficients and residual covariance matrix\n",
    "A = var_results.coefs  # Transition matrix Γ\n",
    "A = np.squeeze(A) # change shape from (1,3,3) to (3,3)\n",
    "epsilon = var_results.sigma_u"
   ]
  },
  {
   "cell_type": "code",
   "execution_count": null,
   "metadata": {},
   "outputs": [],
   "source": [
    "# variance decomposition\n",
    "\n",
    "rho = 0.94\n",
    "\n",
    "eI = np.array([1, 0, 0]) # row vector\n",
    "\n",
    "#identity Matrix\n",
    "dim = A.shape[1]\n",
    "I = np.eye(dim)\n",
    "\n",
    "# (I - rho * A) ^ -1\n",
    "x = I - rho * A\n",
    "inv = np.linalg.inv(x)\n",
    "\n",
    "# news about future returns\n",
    "news_r = eI @ (rho * A) @ inv @ epsilon"
   ]
  },
  {
   "cell_type": "code",
   "execution_count": null,
   "metadata": {},
   "outputs": [],
   "source": [
    "# news about future cash flows\n",
    "news_cf = eI @ (I + rho * A @ inv) @ epsilon"
   ]
  },
  {
   "cell_type": "code",
   "execution_count": null,
   "metadata": {},
   "outputs": [],
   "source": [
    "# calculate variance of news and variance of stock market return. \n",
    "# Normalise variance of news by variance of stock market return so it sums to 1 \n",
    "# and variance of news is a percentage of variance of stock market return. Same as Campbell"
   ]
  }
 ],
 "metadata": {
  "kernelspec": {
   "display_name": "Python 3",
   "language": "python",
   "name": "python3"
  },
  "language_info": {
   "codemirror_mode": {
    "name": "ipython",
    "version": 3
   },
   "file_extension": ".py",
   "mimetype": "text/x-python",
   "name": "python",
   "nbconvert_exporter": "python",
   "pygments_lexer": "ipython3",
   "version": "3.12.1"
  }
 },
 "nbformat": 4,
 "nbformat_minor": 2
}
