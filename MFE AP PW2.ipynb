{
 "cells": [
  {
   "cell_type": "code",
   "execution_count": null,
   "metadata": {},
   "outputs": [],
   "source": [
    "!pip install pandas openpyxl\n",
    "!pip install tabulate\n",
    "!pip install linearmodels"
   ]
  },
  {
   "cell_type": "code",
   "execution_count": null,
   "metadata": {},
   "outputs": [],
   "source": [
    "import pandas as pd\n",
    "import numpy as np\n",
    "from tabulate import tabulate\n",
    "import statsmodels.api as sm\n",
    "from linearmodels.system import SUR\n",
    "from statsmodels.tsa.api import VAR"
   ]
  },
  {
   "cell_type": "code",
   "execution_count": null,
   "metadata": {},
   "outputs": [],
   "source": [
    "# Load the Excel file\n",
    "file_path = \"Assignment2Data_2025.xlsx\"\n",
    "\n",
    "# Read a specific sheet\n",
    "q1 = pd.read_excel(file_path, sheet_name=\"Q1\", engine='openpyxl')\n",
    "\n",
    "bonus = pd.read_excel(file_path, sheet_name=\"BonusQuestion\", engine='openpyxl')\n",
    "\n",
    "# Display first few rows\n",
    "print(q1.head())\n",
    "print(bonus.head())"
   ]
  },
  {
   "cell_type": "markdown",
   "metadata": {},
   "source": [
    "# 1"
   ]
  },
  {
   "cell_type": "code",
   "execution_count": null,
   "metadata": {},
   "outputs": [],
   "source": [
    "data_1973_2024 = q1[q1['Calendar Date'] >= 19731231]\n",
    "\n",
    "# Function to compute statistics\n",
    "def compute_stats(df):\n",
    "    stats = {\n",
    "        \"Mean Total Return\": round(df[\"Real R\"].mean(),3),\n",
    "        \"Std Total Return\": round(df[\"Real R\"].std(),3),\n",
    "        \"Mean Dividend Growth\": round(df[\"Real DG\"].mean(),3),\n",
    "        \"Std Dividend Growth\": round(df[\"Real DG\"].std(),3),\n",
    "        \"Correlation\": round(df[[\"Real R\", \"Real DG\"]].corr().iloc[0, 1],3)\n",
    "    }\n",
    "    return stats\n",
    "\n",
    "# Compute statistics for both periods\n",
    "stats_1927_2024 = compute_stats(q1)\n",
    "stats_1973_2024 = compute_stats(data_1973_2024)\n",
    "\n",
    "# Create a DataFrame to report results\n",
    "report = pd.DataFrame([stats_1927_2024, stats_1973_2024], index=[\"1927-2024\", \"1973-2024\"])\n",
    "print(report)"
   ]
  },
  {
   "cell_type": "code",
   "execution_count": null,
   "metadata": {},
   "outputs": [],
   "source": [
    "table1 = [\n",
    "    [\"Metric\", \"1927-2024\", \"1973-2024\"],\n",
    "    [\"Mean Total Return\", stats_1927_2024['Mean Total Return'], stats_1973_2024['Mean Total Return']],\n",
    "    [\"Std Dev Total Return\", stats_1927_2024['Std Total Return'], stats_1973_2024['Std Total Return']],\n",
    "    [\"Mean Dividend Growth\", stats_1927_2024['Mean Dividend Growth'], stats_1973_2024['Mean Dividend Growth']],\n",
    "    [\"Std Dev Dividend Growth\", stats_1927_2024['Std Dividend Growth'], stats_1973_2024['Std Dividend Growth']],\n",
    "    [\"Correlation (Returns & Growth)\", stats_1927_2024['Correlation'], stats_1973_2024['Correlation']],\n",
    "]\n",
    "\n",
    "# Print table in Markdown format\n",
    "print(\"Table 1. 1927-2024 and 1973-2024 Total Returns, Net Dividend Growth, and Correlations\")\n",
    "print(tabulate(table1, headers=\"firstrow\", tablefmt=\"pretty\"))"
   ]
  },
  {
   "cell_type": "markdown",
   "metadata": {},
   "source": [
    "# 2"
   ]
  },
  {
   "cell_type": "code",
   "execution_count": null,
   "metadata": {},
   "outputs": [],
   "source": [
    "# 1927-2024\n",
    "# dividend yield\n",
    "X = q1['DP'][:-1].reset_index(drop=True)\n",
    "\n",
    "# real return\n",
    "Y = q1['Real R'][1:].reset_index(drop=True)\n",
    "    \n",
    "# Add constant term for regression\n",
    "X = sm.add_constant(X)\n",
    "    \n",
    "# Run OLS regression, correct for heteroskedasticity\n",
    "model_1927_2024 = sm.OLS(Y, X).fit(cov_type='HC3')"
   ]
  },
  {
   "cell_type": "code",
   "execution_count": null,
   "metadata": {},
   "outputs": [],
   "source": [
    "a_1927 = model_1927_2024.params['const']\n",
    "b_1927 = model_1927_2024.params['DP']\n",
    "t_stat_a_1927 = model_1927_2024.tvalues['const']\n",
    "t_stat_b_1927 = model_1927_2024.tvalues['DP']\n",
    "adj_r2_1927 = model_1927_2024.rsquared_adj"
   ]
  },
  {
   "cell_type": "code",
   "execution_count": null,
   "metadata": {},
   "outputs": [],
   "source": [
    "# 1973-2024\n",
    "# dividend yield\n",
    "X = data_1973_2024['DP'][:-1].reset_index(drop=True)\n",
    "\n",
    "# real return\n",
    "Y = data_1973_2024['Real R'][1:].reset_index(drop=True)\n",
    "    \n",
    "# Add constant term for regression\n",
    "X = sm.add_constant(X)\n",
    "    \n",
    "# Run OLS regression\n",
    "model_1973_2024 = sm.OLS(Y, X).fit(cov_type='HC3')"
   ]
  },
  {
   "cell_type": "code",
   "execution_count": null,
   "metadata": {},
   "outputs": [],
   "source": [
    "a_1973 = model_1973_2024.params['const']\n",
    "b_1973 = model_1973_2024.params['DP']\n",
    "t_stat_a_1973 = model_1973_2024.tvalues['const']\n",
    "t_stat_b_1973 = model_1973_2024.tvalues['DP']\n",
    "adj_r2_1973 = model_1973_2024.rsquared_adj"
   ]
  },
  {
   "cell_type": "code",
   "execution_count": null,
   "metadata": {},
   "outputs": [],
   "source": [
    "table2 = [\n",
    "    [\"Metric\", \"1927-2024\", \"1973-2024\"],\n",
    "    [\"Constant\", round(a_1927,3), round(a_1973,3)],\n",
    "    [\"Constant t-statistics\", round(t_stat_a_1927,3), round(t_stat_a_1973,3)],\n",
    "    [\"Dividend Yield\", round(b_1927,3), round(b_1973,3)],\n",
    "    [\"Dividend Yield t-statistics\", round(t_stat_b_1927,3), round(t_stat_b_1973,3)],\n",
    "    [\"Adjusted R-Squares\", round(adj_r2_1927, 3), round(adj_r2_1973, 3)],\n",
    "]\n",
    "\n",
    "# Print table in Markdown format\n",
    "print(\"Table 2. Regression Results of 1927-2024 and 1973-2024 Real Returns on Dividend Yield\")\n",
    "print(tabulate(table2, headers=\"firstrow\", tablefmt=\"pretty\"))"
   ]
  },
  {
   "cell_type": "markdown",
   "metadata": {},
   "source": [
    "# 3"
   ]
  },
  {
   "cell_type": "code",
   "execution_count": null,
   "metadata": {},
   "outputs": [],
   "source": [
    "# 1927-2024\n",
    "# dividend yield\n",
    "X = q1['DP'][:-1].reset_index(drop=True)\n",
    "\n",
    "# dividend growth\n",
    "Y = q1['Real DG'][1:].reset_index(drop=True)\n",
    "    \n",
    "# Add constant term for regression\n",
    "X = sm.add_constant(X)\n",
    "    \n",
    "# Run OLS regression\n",
    "model_1927_2024 = sm.OLS(Y, X).fit(cov_type='HC3')"
   ]
  },
  {
   "cell_type": "code",
   "execution_count": null,
   "metadata": {},
   "outputs": [],
   "source": [
    "model_1927_2024.summary()"
   ]
  },
  {
   "cell_type": "code",
   "execution_count": null,
   "metadata": {},
   "outputs": [],
   "source": [
    "a_1927 = model_1927_2024.params['const']\n",
    "b_1927 = model_1927_2024.params['DP']\n",
    "t_stat_a_1927 = model_1927_2024.tvalues['const']\n",
    "t_stat_b_1927 = model_1927_2024.tvalues['DP']\n",
    "adj_r2_1927 = model_1927_2024.rsquared_adj"
   ]
  },
  {
   "cell_type": "code",
   "execution_count": null,
   "metadata": {},
   "outputs": [],
   "source": [
    "# 1973-2024\n",
    "# dividend yield\n",
    "X = data_1973_2024['DP'][:-1].reset_index(drop=True)\n",
    "\n",
    "# real dividend growth\n",
    "Y = data_1973_2024['Real DG'][1:].reset_index(drop=True)\n",
    "    \n",
    "# Add constant term for regression\n",
    "X = sm.add_constant(X)\n",
    "    \n",
    "# Run OLS regression\n",
    "model_1973_2024 = sm.OLS(Y, X).fit(cov_type='HC3')"
   ]
  },
  {
   "cell_type": "code",
   "execution_count": null,
   "metadata": {},
   "outputs": [],
   "source": [
    "a_1973 = model_1973_2024.params['const']\n",
    "b_1973 = model_1973_2024.params['DP']\n",
    "t_stat_a_1973 = model_1973_2024.tvalues['const']\n",
    "t_stat_b_1973 = model_1973_2024.tvalues['DP']\n",
    "adj_r2_1973 = model_1973_2024.rsquared_adj"
   ]
  },
  {
   "cell_type": "code",
   "execution_count": null,
   "metadata": {},
   "outputs": [],
   "source": [
    "table3 = [\n",
    "    [\"Metric\", \"1927-2024\", \"1973-2024\"],\n",
    "    [\"Constant\", round(a_1927,3), round(a_1973,3)],\n",
    "    [\"Constant t-statistics\", round(t_stat_a_1927,3), round(t_stat_a_1973,3)],\n",
    "    [\"Dividend Yield\", round(b_1927,3), round(b_1973,3)],\n",
    "    [\"Dividend Yield t-statistics\", round(t_stat_b_1927,3), round(t_stat_b_1973,3)],\n",
    "    [\"Adjusted R-Squares\", round(adj_r2_1927, 3), round(adj_r2_1973, 3)],\n",
    "]\n",
    "\n",
    "# Print table in Markdown format\n",
    "print(\"Table 3. Regression Results of 1927-2024 and 1973-2024 Real Dividend Growth on Dividend Yield\")\n",
    "print(tabulate(table3, headers=\"firstrow\", tablefmt=\"pretty\"))"
   ]
  },
  {
   "cell_type": "markdown",
   "metadata": {},
   "source": [
    "# 4"
   ]
  },
  {
   "cell_type": "code",
   "execution_count": null,
   "metadata": {},
   "outputs": [],
   "source": [
    "# 1927-2024\n",
    "# payout ratio\n",
    "X = q1['DE'][:-1].reset_index(drop=True)\n",
    "\n",
    "# dividend growth\n",
    "Y = q1['Real DG'][1:].reset_index(drop=True)\n",
    "    \n",
    "# Add constant term for regression\n",
    "X = sm.add_constant(X)\n",
    "    \n",
    "# Run OLS regression\n",
    "model_1927_2024 = sm.OLS(Y, X).fit(cov_type='HC3')"
   ]
  },
  {
   "cell_type": "code",
   "execution_count": null,
   "metadata": {},
   "outputs": [],
   "source": [
    "model_1927_2024.summary()"
   ]
  },
  {
   "cell_type": "code",
   "execution_count": null,
   "metadata": {},
   "outputs": [],
   "source": [
    "a_1927 = model_1927_2024.params['const']\n",
    "b_1927 = model_1927_2024.params['DE']\n",
    "t_stat_a_1927 = model_1927_2024.tvalues['const']\n",
    "t_stat_b_1927 = model_1927_2024.tvalues['DE']\n",
    "adj_r2_1927 = model_1927_2024.rsquared_adj"
   ]
  },
  {
   "cell_type": "code",
   "execution_count": null,
   "metadata": {},
   "outputs": [],
   "source": [
    "# 1973-2024\n",
    "# dividend yield\n",
    "X = data_1973_2024['DE'][:-1].reset_index(drop=True)\n",
    "\n",
    "# real dividend growth\n",
    "Y = data_1973_2024['Real DG'][1:].reset_index(drop=True)\n",
    "    \n",
    "# Add constant term for regression\n",
    "X = sm.add_constant(X)\n",
    "    \n",
    "# Run OLS regression\n",
    "model_1973_2024 = sm.OLS(Y, X).fit(cov_type='HC3')"
   ]
  },
  {
   "cell_type": "code",
   "execution_count": null,
   "metadata": {},
   "outputs": [],
   "source": [
    "a_1973 = model_1973_2024.params['const']\n",
    "b_1973 = model_1973_2024.params['DE']\n",
    "t_stat_a_1973 = model_1973_2024.tvalues['const']\n",
    "t_stat_b_1973 = model_1973_2024.tvalues['DE']\n",
    "adj_r2_1973 = model_1973_2024.rsquared_adj"
   ]
  },
  {
   "cell_type": "code",
   "execution_count": null,
   "metadata": {},
   "outputs": [],
   "source": [
    "table4 = [\n",
    "    [\"Metric\", \"1927-2024\", \"1973-2024\"],\n",
    "    [\"Constant\", round(a_1927,3), round(a_1973,3)],\n",
    "    [\"Constant t-statistics\", round(t_stat_a_1927,3), round(t_stat_a_1973,3)],\n",
    "    [\"Dividend Yield\", round(b_1927,3), round(b_1973,3)],\n",
    "    [\"Dividend Yield t-statistics\", round(t_stat_b_1927,3), round(t_stat_b_1973,3)],\n",
    "    [\"Adjusted R-Squares\", round(adj_r2_1927, 3), round(adj_r2_1973, 3)],\n",
    "]\n",
    "\n",
    "# Print table in Markdown format\n",
    "print(\"Table 4. Regression Results of 1927-2024 and 1973-2024 Real Dividend Growth on Payout Ratio\")\n",
    "print(tabulate(table4, headers=\"firstrow\", tablefmt=\"pretty\"))"
   ]
  },
  {
   "cell_type": "markdown",
   "metadata": {},
   "source": [
    "Don't predict because R-square is very small. T-statistics are small and are not significant at 5% significance level. "
   ]
  },
  {
   "cell_type": "markdown",
   "metadata": {},
   "source": [
    "# 5"
   ]
  },
  {
   "cell_type": "code",
   "execution_count": null,
   "metadata": {},
   "outputs": [],
   "source": [
    "# seemingly unrelated regression\n",
    "\n",
    "# dividend yield\n",
    "X = -np.log(q1['DP'][:-1]).reset_index(drop=True)\n",
    "\n",
    "# dividend growth. Plus 1 because \"Real DG\" is net growth\n",
    "Y1 = np.log(q1['Real DG'][1:]+1).reset_index(drop=True)\n",
    "\n",
    "# dividend yield\n",
    "Y2 = -np.log(q1['DP'][1:]).reset_index(drop=True)\n",
    "\n",
    "# drop NA\n",
    "data = pd.DataFrame({'X': X, 'Y1': Y1, 'Y2': Y2})\n",
    "\n",
    "# Drop rows with any NA values\n",
    "data_cleaned = data.dropna()\n",
    "\n",
    "equations = {\n",
    "    \"eq1\": {\n",
    "        \"dependent\": data_cleaned[\"Y1\"],\n",
    "        \"exog\": sm.add_constant(data_cleaned[\"X\"])\n",
    "    },\n",
    "    \"eq2\": {\n",
    "        \"dependent\": data_cleaned[\"Y2\"],\n",
    "        \"exog\": sm.add_constant(data_cleaned[\"X\"])\n",
    "    }\n",
    "}\n",
    "\n",
    "# Fit SUR model\n",
    "sur_model = SUR(equations)\n",
    "results = sur_model.fit()\n",
    "results_robust = results.get_robustcov_results(cov_type='HC3')\n",
    "\n",
    "# Extract covariance matrix of betas\n",
    "cov_matrix = results_robust.cov"
   ]
  },
  {
   "cell_type": "code",
   "execution_count": null,
   "metadata": {},
   "outputs": [],
   "source": [
    "cov_matrix"
   ]
  },
  {
   "cell_type": "code",
   "execution_count": null,
   "metadata": {},
   "outputs": [],
   "source": [
    "cov_beta = cov_matrix['eq1_X'][3]"
   ]
  },
  {
   "cell_type": "code",
   "execution_count": null,
   "metadata": {},
   "outputs": [],
   "source": [
    "# equation (7)\n",
    "X = sm.add_constant(data_cleaned['X'])\n",
    "\n",
    "eq7 = sm.OLS(data_cleaned['Y1'], X).fit(cov_type='HC3')\n",
    "\n",
    "a_eq7 = eq7.params['const']\n",
    "b_eq7 = eq7.params['X']\n",
    "t_stat_a_eq7 = eq7.tvalues['const']\n",
    "t_stat_b_eq7 = eq7.tvalues['X']\n",
    "adj_r2_eq7 = eq7.rsquared_adj"
   ]
  },
  {
   "cell_type": "code",
   "execution_count": null,
   "metadata": {},
   "outputs": [],
   "source": [
    "# equation 8\n",
    "# 1927-2024\n",
    "eq8 = sm.OLS(data_cleaned['Y2'], X).fit(cov_type='HC3')\n",
    "\n",
    "a_eq8 = eq8.params['const']\n",
    "b_eq8 = eq8.params['X']\n",
    "t_stat_a_eq8 = eq8.tvalues['const']\n",
    "t_stat_b_eq8 = eq8.tvalues['X']\n",
    "adj_r2_eq8 = eq8.rsquared_adj"
   ]
  },
  {
   "cell_type": "code",
   "execution_count": null,
   "metadata": {},
   "outputs": [],
   "source": [
    "print(a_eq7)\n",
    "print(b_eq7)\n",
    "print(a_eq8)\n",
    "print(b_eq8)"
   ]
  },
  {
   "cell_type": "markdown",
   "metadata": {},
   "source": [
    "\\begin{align*}\n",
    "Var(\\beta_{pd,r}^{Null})&=Var(-(1-\\hat{\\beta}_{pd,\\Delta d}-\\rho\\hat{\\beta}_{pd,pd+1}))\\\\\n",
    "&=Var(1-\\hat{\\beta}_{pd,\\Delta d}-\\rho\\hat{\\beta}_{pd,pd+1})\\\\\n",
    "&=Var(1)+Var(\\beta_{pd,\\Delta d})+\\rho^2 Var(\\beta_{pd,pd+1})+2\\rho Cov(\\beta_{pd,\\Delta d},\\beta_{pd,pd+1})\n",
    "\\end{align*}"
   ]
  },
  {
   "cell_type": "code",
   "execution_count": null,
   "metadata": {},
   "outputs": [],
   "source": [
    "b_se_eq7 = eq7.bse['X']\n",
    "b_se_eq8 = eq8.bse['X']"
   ]
  },
  {
   "cell_type": "code",
   "execution_count": null,
   "metadata": {},
   "outputs": [],
   "source": [
    "b_var_eq6 = b_se_eq7 ** 2 + (0.94 * b_se_eq8) ** 2 + 2 * 0.94 * cov_beta"
   ]
  },
  {
   "cell_type": "code",
   "execution_count": null,
   "metadata": {},
   "outputs": [],
   "source": [
    "b_eq6 = -(1-b_eq7-0.94*b_eq8)\n",
    "t_stat_b_eq6 = b_eq6 / (b_var_eq6 ** 0.5)"
   ]
  },
  {
   "cell_type": "code",
   "execution_count": null,
   "metadata": {},
   "outputs": [],
   "source": [
    "diff_eq6 = np.log(q1['Real R'][1:]).reset_index(drop=True) - b_eq6 * -np.log(q1['DP'][:-1]).reset_index(drop=True)\n",
    "a_eq6 = diff_eq6.mean()"
   ]
  },
  {
   "cell_type": "code",
   "execution_count": null,
   "metadata": {},
   "outputs": [],
   "source": [
    "y = np.log(q1['Real R'][1:]).reset_index(drop=True)\n",
    "\n",
    "pred = a_eq6 + b_eq6 * -np.log(q1['DP'][:-1]).reset_index(drop=True)\n",
    "squared_diff = (y - pred) ** 2\n",
    "sse = squared_diff.sum()\n",
    "\n",
    "mean = y.mean()\n",
    "\n",
    "squared_total = (y - mean) ** 2\n",
    "sst = squared_total.sum()\n",
    "\n",
    "r2 = 1 - sse/sst\n",
    "\n",
    "#calculate adjusted r2\n",
    "n = len(y)\n",
    "adj_r2_eq6 = 1 - ((1 - r2) * (n - 1)) / (n - 1 - 1)"
   ]
  },
  {
   "cell_type": "code",
   "execution_count": null,
   "metadata": {},
   "outputs": [],
   "source": [
    "table5 = [\n",
    "    [\"Metric\", \"Return\", \"Dividend Growth\", \"Dividend Yield\"],\n",
    "    [\"Constant\", round(a_eq6,3), round(a_eq7,3), round(a_eq8,3)],\n",
    "    [\"Constant t-statistics\", \"\", round(t_stat_a_eq7,3), round(t_stat_a_eq8,3)],\n",
    "    [\"Dividend Yield\", round(b_eq6,3), round(b_eq7,3), round(b_eq8,3)],\n",
    "    [\"Dividend Yield t-statistics\", round(t_stat_b_eq6,3), round(t_stat_b_eq7,3), round(t_stat_b_eq8,3)],\n",
    "    [\"Adjusted R-Squares\", round(adj_r2_eq6,3), round(adj_r2_eq7,3), round(adj_r2_eq8,3)]\n",
    "]\n",
    "\n",
    "# Print table in Markdown format\n",
    "print(\"Table 5. Regression Results of Log Real Return, Real Dividend Growth, and Real P/D on Log Real P/D\")\n",
    "print(tabulate(table5, headers=\"firstrow\", tablefmt=\"pretty\"))"
   ]
  },
  {
   "cell_type": "markdown",
   "metadata": {},
   "source": [
    "# 6"
   ]
  },
  {
   "cell_type": "code",
   "execution_count": null,
   "metadata": {},
   "outputs": [],
   "source": [
    "data = pd.DataFrame({'rt': np.log(q1['Real R']), 'dt': np.log(q1['Real DG']), 'pt-dt': -np.log(q1['DP'])}).dropna()\n",
    "\n",
    "# Fit the VAR model\n",
    "model = VAR(data)\n",
    "var_results = model.fit(maxlags=1)  # Fit the model with lag=1\n",
    "var_results_robust = results.get_robustcov_results(cov_type='HC3')\n",
    "\n",
    "# Extract the coefficients and residual covariance matrix\n",
    "A = var_results_robust.coefs  # Transition matrix Γ\n",
    "A = np.squeeze(A) # change shape from (1,3,3) to (3,3)\n",
    "epsilon = var_results_robust.sigma_u"
   ]
  },
  {
   "cell_type": "code",
   "execution_count": null,
   "metadata": {},
   "outputs": [],
   "source": [
    "# variance decomposition\n",
    "\n",
    "rho = 0.94\n",
    "\n",
    "eI = np.array([1, 0, 0]) # row vector\n",
    "\n",
    "#identity Matrix\n",
    "dim = A.shape[1]\n",
    "I = np.eye(dim)\n",
    "\n",
    "# (I - rho * A) ^ -1\n",
    "x = I - rho * A\n",
    "inv = np.linalg.inv(x)\n",
    "\n",
    "# news about future returns\n",
    "news_r = eI @ (rho * A) @ inv @ epsilon"
   ]
  },
  {
   "cell_type": "code",
   "execution_count": null,
   "metadata": {},
   "outputs": [],
   "source": [
    "# news about future cash flows\n",
    "news_cf = eI @ (I + rho * A @ inv) @ epsilon"
   ]
  }
 ],
 "metadata": {
  "kernelspec": {
   "display_name": "Python 3",
   "language": "python",
   "name": "python3"
  },
  "language_info": {
   "codemirror_mode": {
    "name": "ipython",
    "version": 3
   },
   "file_extension": ".py",
   "mimetype": "text/x-python",
   "name": "python",
   "nbconvert_exporter": "python",
   "pygments_lexer": "ipython3",
   "version": "3.12.1"
  }
 },
 "nbformat": 4,
 "nbformat_minor": 2
}
