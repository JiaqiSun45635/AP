{
 "cells": [
  {
   "cell_type": "code",
   "execution_count": 9,
   "metadata": {},
   "outputs": [
    {
     "name": "stdout",
     "output_type": "stream",
     "text": [
      "Collecting tabulate\n",
      "  Downloading tabulate-0.9.0-py3-none-any.whl.metadata (34 kB)\n",
      "Downloading tabulate-0.9.0-py3-none-any.whl (35 kB)\n",
      "Installing collected packages: tabulate\n",
      "Successfully installed tabulate-0.9.0\n",
      "\n",
      "\u001b[1m[\u001b[0m\u001b[34;49mnotice\u001b[0m\u001b[1;39;49m]\u001b[0m\u001b[39;49m A new release of pip is available: \u001b[0m\u001b[31;49m24.3.1\u001b[0m\u001b[39;49m -> \u001b[0m\u001b[32;49m25.0.1\u001b[0m\n",
      "\u001b[1m[\u001b[0m\u001b[34;49mnotice\u001b[0m\u001b[1;39;49m]\u001b[0m\u001b[39;49m To update, run: \u001b[0m\u001b[32;49mpython3 -m pip install --upgrade pip\u001b[0m\n"
     ]
    }
   ],
   "source": [
    "#pip install pandas openpyxl\n",
    "!pip install tabulate"
   ]
  },
  {
   "cell_type": "code",
   "execution_count": 10,
   "metadata": {},
   "outputs": [],
   "source": [
    "import pandas as pd\n",
    "import numpy as np\n",
    "from tabulate import tabulate"
   ]
  },
  {
   "cell_type": "code",
   "execution_count": null,
   "metadata": {},
   "outputs": [
    {
     "name": "stdout",
     "output_type": "stream",
     "text": [
      "   Calendar Date  Value-Weighted Return-incl. dividends (RY)  \\\n",
      "0       19271231                                    0.328720   \n",
      "1       19281231                                    0.391397   \n",
      "2       19291231                                   -0.150955   \n",
      "3       19301231                                   -0.289005   \n",
      "4       19311231                                   -0.443880   \n",
      "\n",
      "   Value-Weighted Return-excl. dividends (RY)     Level  Dividend        DG  \\\n",
      "0                                    0.266483  1.320979  0.064917  0.170843   \n",
      "1                                    0.337056  1.766222  0.071783  0.105764   \n",
      "2                                   -0.182395  1.444072  0.055530 -0.226421   \n",
      "3                                   -0.321455  0.979868  0.046860 -0.156130   \n",
      "4                                   -0.476975  0.512495  0.032429 -0.307968   \n",
      "\n",
      "        CPI  Real level  Real dividend    Real R   Real DG        DP        DE  \n",
      "0  0.966868    1.366245       0.067142  0.358098  0.196734  0.049143  0.693694  \n",
      "1  0.955690    1.848112       0.075111  0.407671  0.118697  0.040642  0.615942  \n",
      "2  0.961279    1.502241       0.057767 -0.155891 -0.230919  0.038454  0.602484  \n",
      "3  0.899802    1.088982       0.052078 -0.240428 -0.098474  0.047823  1.010309  \n",
      "4  0.815969    0.628082       0.039743 -0.386744 -0.236869  0.063276  1.344262  \n"
     ]
    },
    {
     "name": "stderr",
     "output_type": "stream",
     "text": [
      "/usr/local/python/3.12.1/lib/python3.12/site-packages/openpyxl/worksheet/_reader.py:329: UserWarning: Unknown extension is not supported and will be removed\n",
      "  warn(msg)\n"
     ]
    }
   ],
   "source": [
    "# Load the Excel file\n",
    "file_path = \"Assignment2Data_2025.xlsx\"\n",
    "\n",
    "# Read a specific sheet\n",
    "q1 = pd.read_excel(file_path, sheet_name=\"Q1\", engine='openpyxl')\n",
    "\n",
    "bonus = pd.read_excel(file_path, sheet_name=\"BonusQuestion\", engine='openpyxl')\n",
    "\n",
    "# Display first few rows\n",
    "print(q1.head())\n",
    "print(bonus.head())"
   ]
  },
  {
   "cell_type": "markdown",
   "metadata": {},
   "source": [
    "1."
   ]
  },
  {
   "cell_type": "code",
   "execution_count": 5,
   "metadata": {},
   "outputs": [
    {
     "name": "stdout",
     "output_type": "stream",
     "text": [
      "           Mean Total Return  Std Total Return  Mean Dividend Growth  \\\n",
      "1927-2024           0.087516          0.198284              0.027736   \n",
      "1973-2024           0.079824          0.177037              0.033704   \n",
      "\n",
      "           Std Dividend Growth  Correlation  \n",
      "1927-2024             0.145071     0.636830  \n",
      "1973-2024             0.147038     0.656714  \n"
     ]
    }
   ],
   "source": [
    "data_1973_2024 = q1[q1['Calendar Date'] >= 19731231]\n",
    "\n",
    "# Function to compute statistics\n",
    "def compute_stats(df):\n",
    "    stats = {\n",
    "        \"Mean Total Return\": df[\"Real R\"].mean(),\n",
    "        \"Std Total Return\": df[\"Real R\"].std(),\n",
    "        \"Mean Dividend Growth\": df[\"Real DG\"].mean(),\n",
    "        \"Std Dividend Growth\": df[\"Real DG\"].std(),\n",
    "        \"Correlation\": df[[\"Real R\", \"Real DG\"]].corr().iloc[0, 1]\n",
    "    }\n",
    "    return stats\n",
    "\n",
    "# Compute statistics for both periods\n",
    "stats_1927_2024 = compute_stats(q1)\n",
    "stats_1973_2024 = compute_stats(data_1973_2024)\n",
    "\n",
    "# Create a DataFrame to report results\n",
    "report = pd.DataFrame([stats_1927_2024, stats_1973_2024], index=[\"1927-2024\", \"1973-2024\"])\n",
    "print(report)"
   ]
  },
  {
   "cell_type": "code",
   "execution_count": 12,
   "metadata": {},
   "outputs": [
    {
     "name": "stdout",
     "output_type": "stream",
     "text": [
      "| Metric                         |   1927-2024 |   1973-2024 |\n",
      "|--------------------------------|-------------|-------------|\n",
      "| Mean Total Return              |   0.0875159 |   0.0798244 |\n",
      "| Std Dev Total Return           |   0.198284  |   0.177037  |\n",
      "| Mean Dividend Growth           |   0.0277357 |   0.0337039 |\n",
      "| Std Dev Dividend Growth        |   0.145071  |   0.147038  |\n",
      "| Correlation (Returns & Growth) |   0.63683   |   0.656714  |\n"
     ]
    }
   ],
   "source": [
    "table = [\n",
    "    [\"Metric\", \"1927-2024\", \"1973-2024\"],\n",
    "    [\"Mean Total Return\", stats_1927_2024['Mean Total Return'], stats_1973_2024['Mean Total Return']],\n",
    "    [\"Std Dev Total Return\", stats_1927_2024['Std Total Return'], stats_1973_2024['Std Total Return']],\n",
    "    [\"Mean Dividend Growth\", stats_1927_2024['Mean Dividend Growth'], stats_1973_2024['Mean Dividend Growth']],\n",
    "    [\"Std Dev Dividend Growth\", stats_1927_2024['Std Dividend Growth'], stats_1973_2024['Std Dividend Growth']],\n",
    "    [\"Correlation (Returns & Growth)\", stats_1927_2024['Correlation'], stats_1973_2024['Correlation']],\n",
    "]\n",
    "\n",
    "# Print table in Markdown format\n",
    "print(tabulate(table, headers=\"firstrow\", tablefmt=\"github\"))"
   ]
  }
 ],
 "metadata": {
  "kernelspec": {
   "display_name": "Python 3",
   "language": "python",
   "name": "python3"
  },
  "language_info": {
   "codemirror_mode": {
    "name": "ipython",
    "version": 3
   },
   "file_extension": ".py",
   "mimetype": "text/x-python",
   "name": "python",
   "nbconvert_exporter": "python",
   "pygments_lexer": "ipython3",
   "version": "3.12.1"
  }
 },
 "nbformat": 4,
 "nbformat_minor": 2
}
