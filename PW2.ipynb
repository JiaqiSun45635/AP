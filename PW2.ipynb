{
 "cells": [
  {
   "cell_type": "code",
   "execution_count": 1,
   "metadata": {},
   "outputs": [
    {
     "name": "stdout",
     "output_type": "stream",
     "text": [
      "Requirement already satisfied: pandas in /home/codespace/.local/lib/python3.12/site-packages (2.2.3)\n",
      "Collecting openpyxl\n",
      "  Downloading openpyxl-3.1.5-py2.py3-none-any.whl.metadata (2.5 kB)\n",
      "Requirement already satisfied: numpy>=1.26.0 in /home/codespace/.local/lib/python3.12/site-packages (from pandas) (2.2.0)\n",
      "Requirement already satisfied: python-dateutil>=2.8.2 in /home/codespace/.local/lib/python3.12/site-packages (from pandas) (2.9.0.post0)\n",
      "Requirement already satisfied: pytz>=2020.1 in /home/codespace/.local/lib/python3.12/site-packages (from pandas) (2024.2)\n",
      "Requirement already satisfied: tzdata>=2022.7 in /home/codespace/.local/lib/python3.12/site-packages (from pandas) (2024.2)\n",
      "Collecting et-xmlfile (from openpyxl)\n",
      "  Downloading et_xmlfile-2.0.0-py3-none-any.whl.metadata (2.7 kB)\n",
      "Requirement already satisfied: six>=1.5 in /home/codespace/.local/lib/python3.12/site-packages (from python-dateutil>=2.8.2->pandas) (1.17.0)\n",
      "Downloading openpyxl-3.1.5-py2.py3-none-any.whl (250 kB)\n",
      "Downloading et_xmlfile-2.0.0-py3-none-any.whl (18 kB)\n",
      "Installing collected packages: et-xmlfile, openpyxl\n",
      "Successfully installed et-xmlfile-2.0.0 openpyxl-3.1.5\n",
      "\n",
      "\u001b[1m[\u001b[0m\u001b[34;49mnotice\u001b[0m\u001b[1;39;49m]\u001b[0m\u001b[39;49m A new release of pip is available: \u001b[0m\u001b[31;49m24.3.1\u001b[0m\u001b[39;49m -> \u001b[0m\u001b[32;49m25.0.1\u001b[0m\n",
      "\u001b[1m[\u001b[0m\u001b[34;49mnotice\u001b[0m\u001b[1;39;49m]\u001b[0m\u001b[39;49m To update, run: \u001b[0m\u001b[32;49mpython -m pip install --upgrade pip\u001b[0m\n",
      "Note: you may need to restart the kernel to use updated packages.\n"
     ]
    }
   ],
   "source": [
    "pip install pandas openpyxl"
   ]
  },
  {
   "cell_type": "code",
   "execution_count": 2,
   "metadata": {},
   "outputs": [],
   "source": [
    "import pandas as pd"
   ]
  },
  {
   "cell_type": "code",
   "execution_count": 3,
   "metadata": {},
   "outputs": [
    {
     "name": "stdout",
     "output_type": "stream",
     "text": [
      "   Calendar Date  Value-Weighted Return-incl. dividends (RY)  \\\n",
      "0       19271231                                    0.328720   \n",
      "1       19281231                                    0.391397   \n",
      "2       19291231                                   -0.150955   \n",
      "3       19301231                                   -0.289005   \n",
      "4       19311231                                   -0.443880   \n",
      "\n",
      "   Value-Weighted Return-excl. dividends (RY)     Level  Dividend        DG  \\\n",
      "0                                    0.266483  1.320979  0.064917  0.170843   \n",
      "1                                    0.337056  1.766222  0.071783  0.105764   \n",
      "2                                   -0.182395  1.444072  0.055530 -0.226421   \n",
      "3                                   -0.321455  0.979868  0.046860 -0.156130   \n",
      "4                                   -0.476975  0.512495  0.032429 -0.307968   \n",
      "\n",
      "        CPI  Real level  Real dividend    Real R   Real DG        DP        DE  \n",
      "0  0.966868    1.366245       0.067142  0.358098  0.196734  0.049143  0.693694  \n",
      "1  0.955690    1.848112       0.075111  0.407671  0.118697  0.040642  0.615942  \n",
      "2  0.961279    1.502241       0.057767 -0.155891 -0.230919  0.038454  0.602484  \n",
      "3  0.899802    1.088982       0.052078 -0.240428 -0.098474  0.047823  1.010309  \n",
      "4  0.815969    0.628082       0.039743 -0.386744 -0.236869  0.063276  1.344262  \n"
     ]
    },
    {
     "name": "stderr",
     "output_type": "stream",
     "text": [
      "/usr/local/python/3.12.1/lib/python3.12/site-packages/openpyxl/worksheet/_reader.py:329: UserWarning: Unknown extension is not supported and will be removed\n",
      "  warn(msg)\n"
     ]
    }
   ],
   "source": [
    "# Load the Excel file\n",
    "file_path = \"Assignment2Data_2025.xlsx\"\n",
    "\n",
    "# Read a specific sheet\n",
    "q1 = pd.read_excel(file_path, sheet_name=\"Q1\", engine='openpyxl')\n",
    "\n",
    "bonus = pd.read_excel(file_path, sheet_name=\"BonusQuestion\", engine='openpyxl')\n",
    "\n",
    "# Display first few rows\n",
    "print(q1.head())"
   ]
  },
  {
   "cell_type": "code",
   "execution_count": 4,
   "metadata": {},
   "outputs": [
    {
     "name": "stdout",
     "output_type": "stream",
     "text": [
      "       Date         r   ln(P/D)       r^A       r_N  count(d)  count(d')  \\\n",
      "0  19600331 -0.067129  4.787657  0.010683 -0.077725         5         58   \n",
      "1  19600630  0.040717  4.785264 -0.003338  0.044328         6         57   \n",
      "2  19600930 -0.051725  4.798068 -0.020178 -0.031751         6         58   \n",
      "3  19601230  0.090152  4.700134  0.041092  0.049153         6         56   \n",
      "4  19610330  0.128478  4.920339  0.005005  0.124064         6         56   \n",
      "\n",
      "   cound(d)+cound(d')  \n",
      "0                  63  \n",
      "1                  63  \n",
      "2                  64  \n",
      "3                  62  \n",
      "4                  62  \n"
     ]
    }
   ],
   "source": [
    "print(bonus.head())"
   ]
  }
 ],
 "metadata": {
  "kernelspec": {
   "display_name": "Python 3",
   "language": "python",
   "name": "python3"
  },
  "language_info": {
   "codemirror_mode": {
    "name": "ipython",
    "version": 3
   },
   "file_extension": ".py",
   "mimetype": "text/x-python",
   "name": "python",
   "nbconvert_exporter": "python",
   "pygments_lexer": "ipython3",
   "version": "3.12.1"
  }
 },
 "nbformat": 4,
 "nbformat_minor": 2
}
