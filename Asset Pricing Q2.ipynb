{
 "cells": [
  {
   "cell_type": "code",
   "id": "initial_id",
   "metadata": {
    "collapsed": true,
    "ExecuteTime": {
     "end_time": "2025-02-04T18:51:36.788448Z",
     "start_time": "2025-02-04T18:51:36.785473Z"
    }
   },
   "source": [
    "import numpy as np\n",
    "import pandas as pd\n",
    "import statsmodels.api as sm\n",
    "from numpy.linalg import lstsq\n",
    "import matplotlib.pyplot as plt\n"
   ],
   "outputs": [],
   "execution_count": 291
  },
  {
   "metadata": {},
   "cell_type": "markdown",
   "source": "Data Reading Statements",
   "id": "7a4653cb9b411819"
  },
  {
   "metadata": {
    "ExecuteTime": {
     "end_time": "2025-02-04T18:51:36.825651Z",
     "start_time": "2025-02-04T18:51:36.793903Z"
    }
   },
   "cell_type": "code",
   "source": [
    "portfolios25 = pd.read_csv('25_Portfolios.CSV', index_col=0)\n",
    "mom = pd.read_csv('Momentum.csv', index_col=0)\n",
    "ff3 = pd.read_csv('3_Factor.csv', index_col=0)\n",
    "ff5 = pd.read_csv('5_Factor.csv', index_col=0)\n",
    "rev = pd.read_csv('Reversal.csv', index_col=0)\n",
    "\n",
    "portfolios25.index = pd.to_datetime(portfolios25.index, format='%Y%m')\n",
    "mom.index = pd.to_datetime(mom.index, format='%Y%m')\n",
    "ff3.index = pd.to_datetime(ff3.index, format='%Y%m')\n",
    "ff5.index = pd.to_datetime(ff5.index, format='%Y%m')\n",
    "rev.index = pd.to_datetime(rev.index, format='%Y%m')\n",
    "\n",
    "portfolios25 = portfolios25.loc['1963-07-01':'2024-06-01']\n",
    "mom = mom.loc['1963-07-01':'2024-06-01']\n",
    "ff3 = ff3.loc['1963-07-01':'2024-06-01']\n",
    "ff5 = ff5.loc['1963-07-01':'2024-06-01']\n",
    "rev = rev.loc['1963-07-01':'2024-06-01']\n",
    "\n",
    "ff3_mom = pd.concat([ff3, mom], axis=1)\n",
    "ff3_rev = pd.concat([ff3, rev], axis=1)\n",
    "\n",
    "CONS = pd.Series(np.ones(len(ff3_mom)), index=ff3_mom.index)\n",
    "CONS.name = \"CONS\"\n",
    "\n",
    "ff3_mom = pd.concat([ff3_mom, CONS], axis=1)\n",
    "ff3_rev = pd.concat([ff3_rev, CONS], axis=1)\n",
    "ff3 = pd.concat([ff3, CONS], axis=1)\n",
    "ff5 = pd.concat([ff5, CONS], axis=1)"
   ],
   "id": "a835624fe8ea8d28",
   "outputs": [],
   "execution_count": 292
  },
  {
   "metadata": {},
   "cell_type": "markdown",
   "source": "Part (a) regressions - Time Series",
   "id": "cee873b9cc4c5c4e"
  },
  {
   "metadata": {
    "ExecuteTime": {
     "end_time": "2025-02-04T19:03:44.244810Z",
     "start_time": "2025-02-04T19:03:42.226615Z"
    }
   },
   "cell_type": "code",
   "source": [
    "def grsstat(T,N,K,model):\n",
    "    alphas = pd.Series()\n",
    "    matrix = pd.DataFrame()\n",
    "    for i in range(0,len(portfolios25.columns)):\n",
    "        y = portfolios25.iloc[:,i] - model.loc[:,'RF']\n",
    "        x = model.drop('RF', axis=1)\n",
    "        mod = sm.OLS(y, x)\n",
    "        res = mod.fit()\n",
    "        alphas[i] = res.params.loc[\"CONS\"]\n",
    "        matrix[portfolios25.columns[i]] = res.resid\n",
    "\n",
    "    alphas = alphas.to_frame()\n",
    "    for j in range(0,len(matrix)):\n",
    "        resid1 = matrix.iloc[j].to_frame() @ matrix.iloc[j].to_frame().transpose()\n",
    "        if j == 0:\n",
    "            sigmasum = resid1\n",
    "        else:\n",
    "            sigmasum = sigmasum + resid1\n",
    "    sigma = sigmasum/732\n",
    "    sigmainverse = np.linalg.inv(sigma)\n",
    "    factor = model.drop(['RF','CONS'], axis=1)\n",
    "    for g in range(0,len(matrix)):\n",
    "        diff = factor.iloc[g] - factor.mean()\n",
    "        covar = diff.to_frame() @ diff.to_frame().transpose()\n",
    "        if g == 0:\n",
    "            omegasum = covar\n",
    "        else:\n",
    "            omegasum = omegasum + covar\n",
    "\n",
    "    omega = omegasum/732\n",
    "    omegainverse = np.linalg.inv(omega)\n",
    "\n",
    "    factor_mean = factor.mean().to_frame()\n",
    "    temp = factor_mean.T @ omegainverse\n",
    "    temp.columns = factor_mean.index\n",
    "    lhs = (temp @ factor_mean + 1) ** -1\n",
    "    rhs = alphas.T @ sigmainverse @ alphas\n",
    "    grs = (((T-N-K)/N) * lhs * rhs).iloc[0,0]\n",
    "    print(f\"The GRS stat for this model is {grs}\")\n",
    "\n",
    "grsstat(732,25,5,ff5)\n",
    "grsstat(732,25,4,ff3_mom)\n",
    "grsstat(732,25,4,ff3_rev)\n"
   ],
   "id": "37f1870561a99812",
   "outputs": [
    {
     "name": "stdout",
     "output_type": "stream",
     "text": [
      "The GRS stat for this model is 3.1765811560751165\n",
      "The GRS stat for this model is 3.3432127684005932\n",
      "The GRS stat for this model is 4.047110643600798\n"
     ]
    }
   ],
   "execution_count": 297
  },
  {
   "metadata": {
    "ExecuteTime": {
     "end_time": "2025-02-04T20:35:59.219077Z",
     "start_time": "2025-02-04T20:35:59.137732Z"
    }
   },
   "cell_type": "code",
   "source": [
    "def grsstatalt(T,N,K,model):\n",
    "    alphas = pd.Series()\n",
    "    matrix = pd.DataFrame()\n",
    "    for i in range(0,len(portfolios25.columns)):\n",
    "        y = portfolios25.iloc[:,i] - model.loc[:,'RF']\n",
    "        x = model.drop('RF', axis=1)\n",
    "        mod = sm.OLS(y, x)\n",
    "        res = mod.fit()\n",
    "        alphas[i] = res.params.loc[\"CONS\"]\n",
    "        matrix[portfolios25.columns[i]] = res.resid\n",
    "\n",
    "    alphas = alphas.to_frame()\n",
    "    sigma = np.cov(matrix, rowvar=False, bias=True)\n",
    "    sigmainverse = np.linalg.inv(sigma)\n",
    "    factor = model.drop(['RF','CONS'], axis=1)\n",
    "    omega = np.cov(factor, rowvar=False, bias=True)\n",
    "    omegainverse = np.linalg.inv(omega)\n",
    "\n",
    "    factor_mean = factor.mean().to_frame()\n",
    "    temp = factor_mean.T @ omegainverse\n",
    "    temp.columns = factor_mean.index\n",
    "    lhs = (temp @ factor_mean + 1) ** -1\n",
    "    rhs = alphas.T @ sigmainverse @ alphas\n",
    "    grs = (((T-N-K)/N) * lhs * rhs).iloc[0,0]\n",
    "    print(f\"The GRS stat for this model is {grs}\")\n",
    "\n",
    "grsstatalt(732,25,5,ff5)\n",
    "grsstatalt(732,25,4,ff3_mom)\n",
    "grsstatalt(732,25,4,ff3_rev)\n"
   ],
   "id": "5dc77241de3ea31d",
   "outputs": [
    {
     "name": "stdout",
     "output_type": "stream",
     "text": [
      "The GRS stat for this model is 3.176581156075117\n",
      "The GRS stat for this model is 3.343212768400592\n",
      "The GRS stat for this model is 4.047110643600795\n"
     ]
    }
   ],
   "execution_count": 393
  },
  {
   "metadata": {},
   "cell_type": "markdown",
   "source": "Part (c) regressions - Cross Sectional",
   "id": "126b6261ffe9897f"
  },
  {
   "metadata": {
    "ExecuteTime": {
     "end_time": "2025-02-04T20:33:41.049304Z",
     "start_time": "2025-02-04T20:33:41.032435Z"
    }
   },
   "cell_type": "code",
   "source": [
    "#Defining Cross Sectional Function\n",
    "def fama1973test(T, model):\n",
    "    #First Pass\n",
    "    first = sm.OLS(portfolios25.sub(model['RF'],axis = 0),model.drop(['RF'], axis=1))\n",
    "    firstres = first.fit()\n",
    "    betas = firstres.params\n",
    "    betas.columns = portfolios25.columns\n",
    "    betas = betas.T\n",
    "    betas[\"CONS\"] = np.ones(len(betas))\n",
    "\n",
    "    #Second Pass\n",
    "    second = sm.OLS(portfolios25.sub(model['RF'],axis = 0).T, betas)\n",
    "    secondres = second.fit()\n",
    "    means = secondres.params.mean(axis=1)\n",
    "    se = secondres.params.sub(means,axis = 0) **2\n",
    "    sse = se.sum(axis=1)\n",
    "    var = sse/(T**2)\n",
    "    t_stat = means/(var**(1/2))\n",
    "    factors = model.drop(['RF','CONS'], axis=1)\n",
    "    factors_mean = factors.mean()\n",
    "    factors_var = factors.var()\n",
    "    correction = (factors_mean - means[\"CONS\"])**2/factors_var +1\n",
    "    correction[\"CONS\"] = 1\n",
    "    t_stat_corrected = means/((var*correction)**(1/2))\n",
    "    print(f\"The t-statistic for this model :\"\n",
    "          f\" {t_stat}\")\n",
    "    print(f\"The corrected t-statistic for this model is \"\n",
    "          f\"{t_stat_corrected}\")\n",
    "\n",
    "fama1973test(732,ff5)\n",
    "fama1973test(732,ff3_mom)\n",
    "fama1973test(732,ff3_rev)\n",
    "\n"
   ],
   "id": "14fa4dca81967774",
   "outputs": [
    {
     "name": "stdout",
     "output_type": "stream",
     "text": [
      "The t-statistic for this model : Mkt-RF   -1.095852\n",
      "SMB       2.245241\n",
      "HML       2.376790\n",
      "RMW       2.847728\n",
      "CMA       0.303824\n",
      "CONS      3.293718\n",
      "dtype: float64\n",
      "The corrected t-statistic for this model is Mkt-RF   -1.093230\n",
      "SMB       2.188454\n",
      "HML       2.329012\n",
      "RMW       2.748875\n",
      "CMA       0.290773\n",
      "CONS      3.293718\n",
      "dtype: float64\n",
      "The t-statistic for this model : Mkt-RF   -0.044209\n",
      "SMB       0.916669\n",
      "HML       3.130605\n",
      "Mom       3.405397\n",
      "CONS      2.270480\n",
      "dtype: float64\n",
      "The corrected t-statistic for this model is Mkt-RF   -0.044204\n",
      "SMB       0.905158\n",
      "HML       3.107085\n",
      "Mom       3.405232\n",
      "CONS      2.270480\n",
      "dtype: float64\n",
      "The t-statistic for this model : Mkt-RF   -1.735135\n",
      "SMB       1.030179\n",
      "HML       3.032371\n",
      "ST_Rev   -2.867725\n",
      "CONS      4.318588\n",
      "dtype: float64\n",
      "The corrected t-statistic for this model is Mkt-RF   -1.721281\n",
      "SMB       0.979988\n",
      "HML       2.912165\n",
      "ST_Rev   -2.798297\n",
      "CONS      4.318588\n",
      "dtype: float64\n"
     ]
    }
   ],
   "execution_count": 392
  }
 ],
 "metadata": {
  "kernelspec": {
   "display_name": "Python 3",
   "language": "python",
   "name": "python3"
  },
  "language_info": {
   "codemirror_mode": {
    "name": "ipython",
    "version": 2
   },
   "file_extension": ".py",
   "mimetype": "text/x-python",
   "name": "python",
   "nbconvert_exporter": "python",
   "pygments_lexer": "ipython2",
   "version": "2.7.6"
  }
 },
 "nbformat": 4,
 "nbformat_minor": 5
}
