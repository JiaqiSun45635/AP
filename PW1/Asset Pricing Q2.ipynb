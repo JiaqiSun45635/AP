{
 "cells": [
  {
   "cell_type": "code",
   "execution_count": 2,
   "id": "initial_id",
   "metadata": {
    "ExecuteTime": {
     "end_time": "2025-02-04T18:51:36.788448Z",
     "start_time": "2025-02-04T18:51:36.785473Z"
    },
    "collapsed": true
   },
   "outputs": [],
   "source": [
    "import numpy as np\n",
    "import pandas as pd\n",
    "import statsmodels.api as sm\n",
    "from numpy.linalg import lstsq\n",
    "import matplotlib.pyplot as plt\n"
   ]
  },
  {
   "cell_type": "markdown",
   "id": "7a4653cb9b411819",
   "metadata": {},
   "source": [
    "Data Reading Statements"
   ]
  },
  {
   "cell_type": "code",
   "execution_count": 3,
   "id": "a835624fe8ea8d28",
   "metadata": {
    "ExecuteTime": {
     "end_time": "2025-02-04T18:51:36.825651Z",
     "start_time": "2025-02-04T18:51:36.793903Z"
    }
   },
   "outputs": [
    {
     "ename": "FileNotFoundError",
     "evalue": "[Errno 2] No such file or directory: 'Momentum.csv'",
     "output_type": "error",
     "traceback": [
      "\u001b[0;31m---------------------------------------------------------------------------\u001b[0m",
      "\u001b[0;31mFileNotFoundError\u001b[0m                         Traceback (most recent call last)",
      "Cell \u001b[0;32mIn[3], line 2\u001b[0m\n\u001b[1;32m      1\u001b[0m portfolios25 \u001b[38;5;241m=\u001b[39m pd\u001b[38;5;241m.\u001b[39mread_csv(\u001b[38;5;124m'\u001b[39m\u001b[38;5;124m25_Portfolios.CSV\u001b[39m\u001b[38;5;124m'\u001b[39m, index_col\u001b[38;5;241m=\u001b[39m\u001b[38;5;241m0\u001b[39m)\n\u001b[0;32m----> 2\u001b[0m mom \u001b[38;5;241m=\u001b[39m \u001b[43mpd\u001b[49m\u001b[38;5;241;43m.\u001b[39;49m\u001b[43mread_csv\u001b[49m\u001b[43m(\u001b[49m\u001b[38;5;124;43m'\u001b[39;49m\u001b[38;5;124;43mMomentum.csv\u001b[39;49m\u001b[38;5;124;43m'\u001b[39;49m\u001b[43m,\u001b[49m\u001b[43m \u001b[49m\u001b[43mindex_col\u001b[49m\u001b[38;5;241;43m=\u001b[39;49m\u001b[38;5;241;43m0\u001b[39;49m\u001b[43m)\u001b[49m\n\u001b[1;32m      3\u001b[0m ff3 \u001b[38;5;241m=\u001b[39m pd\u001b[38;5;241m.\u001b[39mread_csv(\u001b[38;5;124m'\u001b[39m\u001b[38;5;124m3_Factor.csv\u001b[39m\u001b[38;5;124m'\u001b[39m, index_col\u001b[38;5;241m=\u001b[39m\u001b[38;5;241m0\u001b[39m)\n\u001b[1;32m      4\u001b[0m ff5 \u001b[38;5;241m=\u001b[39m pd\u001b[38;5;241m.\u001b[39mread_csv(\u001b[38;5;124m'\u001b[39m\u001b[38;5;124m5_Factor.csv\u001b[39m\u001b[38;5;124m'\u001b[39m, index_col\u001b[38;5;241m=\u001b[39m\u001b[38;5;241m0\u001b[39m)\n",
      "File \u001b[0;32m~/.local/lib/python3.12/site-packages/pandas/io/parsers/readers.py:1026\u001b[0m, in \u001b[0;36mread_csv\u001b[0;34m(filepath_or_buffer, sep, delimiter, header, names, index_col, usecols, dtype, engine, converters, true_values, false_values, skipinitialspace, skiprows, skipfooter, nrows, na_values, keep_default_na, na_filter, verbose, skip_blank_lines, parse_dates, infer_datetime_format, keep_date_col, date_parser, date_format, dayfirst, cache_dates, iterator, chunksize, compression, thousands, decimal, lineterminator, quotechar, quoting, doublequote, escapechar, comment, encoding, encoding_errors, dialect, on_bad_lines, delim_whitespace, low_memory, memory_map, float_precision, storage_options, dtype_backend)\u001b[0m\n\u001b[1;32m   1013\u001b[0m kwds_defaults \u001b[38;5;241m=\u001b[39m _refine_defaults_read(\n\u001b[1;32m   1014\u001b[0m     dialect,\n\u001b[1;32m   1015\u001b[0m     delimiter,\n\u001b[0;32m   (...)\u001b[0m\n\u001b[1;32m   1022\u001b[0m     dtype_backend\u001b[38;5;241m=\u001b[39mdtype_backend,\n\u001b[1;32m   1023\u001b[0m )\n\u001b[1;32m   1024\u001b[0m kwds\u001b[38;5;241m.\u001b[39mupdate(kwds_defaults)\n\u001b[0;32m-> 1026\u001b[0m \u001b[38;5;28;01mreturn\u001b[39;00m \u001b[43m_read\u001b[49m\u001b[43m(\u001b[49m\u001b[43mfilepath_or_buffer\u001b[49m\u001b[43m,\u001b[49m\u001b[43m \u001b[49m\u001b[43mkwds\u001b[49m\u001b[43m)\u001b[49m\n",
      "File \u001b[0;32m~/.local/lib/python3.12/site-packages/pandas/io/parsers/readers.py:620\u001b[0m, in \u001b[0;36m_read\u001b[0;34m(filepath_or_buffer, kwds)\u001b[0m\n\u001b[1;32m    617\u001b[0m _validate_names(kwds\u001b[38;5;241m.\u001b[39mget(\u001b[38;5;124m\"\u001b[39m\u001b[38;5;124mnames\u001b[39m\u001b[38;5;124m\"\u001b[39m, \u001b[38;5;28;01mNone\u001b[39;00m))\n\u001b[1;32m    619\u001b[0m \u001b[38;5;66;03m# Create the parser.\u001b[39;00m\n\u001b[0;32m--> 620\u001b[0m parser \u001b[38;5;241m=\u001b[39m \u001b[43mTextFileReader\u001b[49m\u001b[43m(\u001b[49m\u001b[43mfilepath_or_buffer\u001b[49m\u001b[43m,\u001b[49m\u001b[43m \u001b[49m\u001b[38;5;241;43m*\u001b[39;49m\u001b[38;5;241;43m*\u001b[39;49m\u001b[43mkwds\u001b[49m\u001b[43m)\u001b[49m\n\u001b[1;32m    622\u001b[0m \u001b[38;5;28;01mif\u001b[39;00m chunksize \u001b[38;5;129;01mor\u001b[39;00m iterator:\n\u001b[1;32m    623\u001b[0m     \u001b[38;5;28;01mreturn\u001b[39;00m parser\n",
      "File \u001b[0;32m~/.local/lib/python3.12/site-packages/pandas/io/parsers/readers.py:1620\u001b[0m, in \u001b[0;36mTextFileReader.__init__\u001b[0;34m(self, f, engine, **kwds)\u001b[0m\n\u001b[1;32m   1617\u001b[0m     \u001b[38;5;28mself\u001b[39m\u001b[38;5;241m.\u001b[39moptions[\u001b[38;5;124m\"\u001b[39m\u001b[38;5;124mhas_index_names\u001b[39m\u001b[38;5;124m\"\u001b[39m] \u001b[38;5;241m=\u001b[39m kwds[\u001b[38;5;124m\"\u001b[39m\u001b[38;5;124mhas_index_names\u001b[39m\u001b[38;5;124m\"\u001b[39m]\n\u001b[1;32m   1619\u001b[0m \u001b[38;5;28mself\u001b[39m\u001b[38;5;241m.\u001b[39mhandles: IOHandles \u001b[38;5;241m|\u001b[39m \u001b[38;5;28;01mNone\u001b[39;00m \u001b[38;5;241m=\u001b[39m \u001b[38;5;28;01mNone\u001b[39;00m\n\u001b[0;32m-> 1620\u001b[0m \u001b[38;5;28mself\u001b[39m\u001b[38;5;241m.\u001b[39m_engine \u001b[38;5;241m=\u001b[39m \u001b[38;5;28;43mself\u001b[39;49m\u001b[38;5;241;43m.\u001b[39;49m\u001b[43m_make_engine\u001b[49m\u001b[43m(\u001b[49m\u001b[43mf\u001b[49m\u001b[43m,\u001b[49m\u001b[43m \u001b[49m\u001b[38;5;28;43mself\u001b[39;49m\u001b[38;5;241;43m.\u001b[39;49m\u001b[43mengine\u001b[49m\u001b[43m)\u001b[49m\n",
      "File \u001b[0;32m~/.local/lib/python3.12/site-packages/pandas/io/parsers/readers.py:1880\u001b[0m, in \u001b[0;36mTextFileReader._make_engine\u001b[0;34m(self, f, engine)\u001b[0m\n\u001b[1;32m   1878\u001b[0m     \u001b[38;5;28;01mif\u001b[39;00m \u001b[38;5;124m\"\u001b[39m\u001b[38;5;124mb\u001b[39m\u001b[38;5;124m\"\u001b[39m \u001b[38;5;129;01mnot\u001b[39;00m \u001b[38;5;129;01min\u001b[39;00m mode:\n\u001b[1;32m   1879\u001b[0m         mode \u001b[38;5;241m+\u001b[39m\u001b[38;5;241m=\u001b[39m \u001b[38;5;124m\"\u001b[39m\u001b[38;5;124mb\u001b[39m\u001b[38;5;124m\"\u001b[39m\n\u001b[0;32m-> 1880\u001b[0m \u001b[38;5;28mself\u001b[39m\u001b[38;5;241m.\u001b[39mhandles \u001b[38;5;241m=\u001b[39m \u001b[43mget_handle\u001b[49m\u001b[43m(\u001b[49m\n\u001b[1;32m   1881\u001b[0m \u001b[43m    \u001b[49m\u001b[43mf\u001b[49m\u001b[43m,\u001b[49m\n\u001b[1;32m   1882\u001b[0m \u001b[43m    \u001b[49m\u001b[43mmode\u001b[49m\u001b[43m,\u001b[49m\n\u001b[1;32m   1883\u001b[0m \u001b[43m    \u001b[49m\u001b[43mencoding\u001b[49m\u001b[38;5;241;43m=\u001b[39;49m\u001b[38;5;28;43mself\u001b[39;49m\u001b[38;5;241;43m.\u001b[39;49m\u001b[43moptions\u001b[49m\u001b[38;5;241;43m.\u001b[39;49m\u001b[43mget\u001b[49m\u001b[43m(\u001b[49m\u001b[38;5;124;43m\"\u001b[39;49m\u001b[38;5;124;43mencoding\u001b[39;49m\u001b[38;5;124;43m\"\u001b[39;49m\u001b[43m,\u001b[49m\u001b[43m \u001b[49m\u001b[38;5;28;43;01mNone\u001b[39;49;00m\u001b[43m)\u001b[49m\u001b[43m,\u001b[49m\n\u001b[1;32m   1884\u001b[0m \u001b[43m    \u001b[49m\u001b[43mcompression\u001b[49m\u001b[38;5;241;43m=\u001b[39;49m\u001b[38;5;28;43mself\u001b[39;49m\u001b[38;5;241;43m.\u001b[39;49m\u001b[43moptions\u001b[49m\u001b[38;5;241;43m.\u001b[39;49m\u001b[43mget\u001b[49m\u001b[43m(\u001b[49m\u001b[38;5;124;43m\"\u001b[39;49m\u001b[38;5;124;43mcompression\u001b[39;49m\u001b[38;5;124;43m\"\u001b[39;49m\u001b[43m,\u001b[49m\u001b[43m \u001b[49m\u001b[38;5;28;43;01mNone\u001b[39;49;00m\u001b[43m)\u001b[49m\u001b[43m,\u001b[49m\n\u001b[1;32m   1885\u001b[0m \u001b[43m    \u001b[49m\u001b[43mmemory_map\u001b[49m\u001b[38;5;241;43m=\u001b[39;49m\u001b[38;5;28;43mself\u001b[39;49m\u001b[38;5;241;43m.\u001b[39;49m\u001b[43moptions\u001b[49m\u001b[38;5;241;43m.\u001b[39;49m\u001b[43mget\u001b[49m\u001b[43m(\u001b[49m\u001b[38;5;124;43m\"\u001b[39;49m\u001b[38;5;124;43mmemory_map\u001b[39;49m\u001b[38;5;124;43m\"\u001b[39;49m\u001b[43m,\u001b[49m\u001b[43m \u001b[49m\u001b[38;5;28;43;01mFalse\u001b[39;49;00m\u001b[43m)\u001b[49m\u001b[43m,\u001b[49m\n\u001b[1;32m   1886\u001b[0m \u001b[43m    \u001b[49m\u001b[43mis_text\u001b[49m\u001b[38;5;241;43m=\u001b[39;49m\u001b[43mis_text\u001b[49m\u001b[43m,\u001b[49m\n\u001b[1;32m   1887\u001b[0m \u001b[43m    \u001b[49m\u001b[43merrors\u001b[49m\u001b[38;5;241;43m=\u001b[39;49m\u001b[38;5;28;43mself\u001b[39;49m\u001b[38;5;241;43m.\u001b[39;49m\u001b[43moptions\u001b[49m\u001b[38;5;241;43m.\u001b[39;49m\u001b[43mget\u001b[49m\u001b[43m(\u001b[49m\u001b[38;5;124;43m\"\u001b[39;49m\u001b[38;5;124;43mencoding_errors\u001b[39;49m\u001b[38;5;124;43m\"\u001b[39;49m\u001b[43m,\u001b[49m\u001b[43m \u001b[49m\u001b[38;5;124;43m\"\u001b[39;49m\u001b[38;5;124;43mstrict\u001b[39;49m\u001b[38;5;124;43m\"\u001b[39;49m\u001b[43m)\u001b[49m\u001b[43m,\u001b[49m\n\u001b[1;32m   1888\u001b[0m \u001b[43m    \u001b[49m\u001b[43mstorage_options\u001b[49m\u001b[38;5;241;43m=\u001b[39;49m\u001b[38;5;28;43mself\u001b[39;49m\u001b[38;5;241;43m.\u001b[39;49m\u001b[43moptions\u001b[49m\u001b[38;5;241;43m.\u001b[39;49m\u001b[43mget\u001b[49m\u001b[43m(\u001b[49m\u001b[38;5;124;43m\"\u001b[39;49m\u001b[38;5;124;43mstorage_options\u001b[39;49m\u001b[38;5;124;43m\"\u001b[39;49m\u001b[43m,\u001b[49m\u001b[43m \u001b[49m\u001b[38;5;28;43;01mNone\u001b[39;49;00m\u001b[43m)\u001b[49m\u001b[43m,\u001b[49m\n\u001b[1;32m   1889\u001b[0m \u001b[43m\u001b[49m\u001b[43m)\u001b[49m\n\u001b[1;32m   1890\u001b[0m \u001b[38;5;28;01massert\u001b[39;00m \u001b[38;5;28mself\u001b[39m\u001b[38;5;241m.\u001b[39mhandles \u001b[38;5;129;01mis\u001b[39;00m \u001b[38;5;129;01mnot\u001b[39;00m \u001b[38;5;28;01mNone\u001b[39;00m\n\u001b[1;32m   1891\u001b[0m f \u001b[38;5;241m=\u001b[39m \u001b[38;5;28mself\u001b[39m\u001b[38;5;241m.\u001b[39mhandles\u001b[38;5;241m.\u001b[39mhandle\n",
      "File \u001b[0;32m~/.local/lib/python3.12/site-packages/pandas/io/common.py:873\u001b[0m, in \u001b[0;36mget_handle\u001b[0;34m(path_or_buf, mode, encoding, compression, memory_map, is_text, errors, storage_options)\u001b[0m\n\u001b[1;32m    868\u001b[0m \u001b[38;5;28;01melif\u001b[39;00m \u001b[38;5;28misinstance\u001b[39m(handle, \u001b[38;5;28mstr\u001b[39m):\n\u001b[1;32m    869\u001b[0m     \u001b[38;5;66;03m# Check whether the filename is to be opened in binary mode.\u001b[39;00m\n\u001b[1;32m    870\u001b[0m     \u001b[38;5;66;03m# Binary mode does not support 'encoding' and 'newline'.\u001b[39;00m\n\u001b[1;32m    871\u001b[0m     \u001b[38;5;28;01mif\u001b[39;00m ioargs\u001b[38;5;241m.\u001b[39mencoding \u001b[38;5;129;01mand\u001b[39;00m \u001b[38;5;124m\"\u001b[39m\u001b[38;5;124mb\u001b[39m\u001b[38;5;124m\"\u001b[39m \u001b[38;5;129;01mnot\u001b[39;00m \u001b[38;5;129;01min\u001b[39;00m ioargs\u001b[38;5;241m.\u001b[39mmode:\n\u001b[1;32m    872\u001b[0m         \u001b[38;5;66;03m# Encoding\u001b[39;00m\n\u001b[0;32m--> 873\u001b[0m         handle \u001b[38;5;241m=\u001b[39m \u001b[38;5;28;43mopen\u001b[39;49m\u001b[43m(\u001b[49m\n\u001b[1;32m    874\u001b[0m \u001b[43m            \u001b[49m\u001b[43mhandle\u001b[49m\u001b[43m,\u001b[49m\n\u001b[1;32m    875\u001b[0m \u001b[43m            \u001b[49m\u001b[43mioargs\u001b[49m\u001b[38;5;241;43m.\u001b[39;49m\u001b[43mmode\u001b[49m\u001b[43m,\u001b[49m\n\u001b[1;32m    876\u001b[0m \u001b[43m            \u001b[49m\u001b[43mencoding\u001b[49m\u001b[38;5;241;43m=\u001b[39;49m\u001b[43mioargs\u001b[49m\u001b[38;5;241;43m.\u001b[39;49m\u001b[43mencoding\u001b[49m\u001b[43m,\u001b[49m\n\u001b[1;32m    877\u001b[0m \u001b[43m            \u001b[49m\u001b[43merrors\u001b[49m\u001b[38;5;241;43m=\u001b[39;49m\u001b[43merrors\u001b[49m\u001b[43m,\u001b[49m\n\u001b[1;32m    878\u001b[0m \u001b[43m            \u001b[49m\u001b[43mnewline\u001b[49m\u001b[38;5;241;43m=\u001b[39;49m\u001b[38;5;124;43m\"\u001b[39;49m\u001b[38;5;124;43m\"\u001b[39;49m\u001b[43m,\u001b[49m\n\u001b[1;32m    879\u001b[0m \u001b[43m        \u001b[49m\u001b[43m)\u001b[49m\n\u001b[1;32m    880\u001b[0m     \u001b[38;5;28;01melse\u001b[39;00m:\n\u001b[1;32m    881\u001b[0m         \u001b[38;5;66;03m# Binary mode\u001b[39;00m\n\u001b[1;32m    882\u001b[0m         handle \u001b[38;5;241m=\u001b[39m \u001b[38;5;28mopen\u001b[39m(handle, ioargs\u001b[38;5;241m.\u001b[39mmode)\n",
      "\u001b[0;31mFileNotFoundError\u001b[0m: [Errno 2] No such file or directory: 'Momentum.csv'"
     ]
    }
   ],
   "source": [
    "portfolios25 = pd.read_csv('25_Portfolios.CSV', index_col=0)\n",
    "mom = pd.read_csv('Momentum.csv', index_col=0)\n",
    "ff3 = pd.read_csv('3_Factor.csv', index_col=0)\n",
    "ff5 = pd.read_csv('5_Factor.csv', index_col=0)\n",
    "rev = pd.read_csv('Reversal.csv', index_col=0)\n",
    "\n",
    "portfolios25.index = pd.to_datetime(portfolios25.index, format='%Y%m')\n",
    "mom.index = pd.to_datetime(mom.index, format='%Y%m')\n",
    "ff3.index = pd.to_datetime(ff3.index, format='%Y%m')\n",
    "ff5.index = pd.to_datetime(ff5.index, format='%Y%m')\n",
    "rev.index = pd.to_datetime(rev.index, format='%Y%m')\n",
    "\n",
    "portfolios25 = portfolios25.loc['1963-07-01':'2024-06-01']\n",
    "mom = mom.loc['1963-07-01':'2024-06-01']\n",
    "ff3 = ff3.loc['1963-07-01':'2024-06-01']\n",
    "ff5 = ff5.loc['1963-07-01':'2024-06-01']\n",
    "rev = rev.loc['1963-07-01':'2024-06-01']\n",
    "\n",
    "ff3_mom = pd.concat([ff3, mom], axis=1)\n",
    "ff3_rev = pd.concat([ff3, rev], axis=1)\n",
    "\n",
    "CONS = pd.Series(np.ones(len(ff3_mom)), index=ff3_mom.index)\n",
    "CONS.name = \"CONS\"\n",
    "\n",
    "ff3_mom = pd.concat([ff3_mom, CONS], axis=1)\n",
    "ff3_rev = pd.concat([ff3_rev, CONS], axis=1)\n",
    "ff3 = pd.concat([ff3, CONS], axis=1)\n",
    "ff5 = pd.concat([ff5, CONS], axis=1)"
   ]
  },
  {
   "cell_type": "markdown",
   "id": "cee873b9cc4c5c4e",
   "metadata": {},
   "source": [
    "Part (a) regressions - Time Series"
   ]
  },
  {
   "cell_type": "code",
   "execution_count": null,
   "id": "37f1870561a99812",
   "metadata": {
    "ExecuteTime": {
     "end_time": "2025-02-04T19:03:44.244810Z",
     "start_time": "2025-02-04T19:03:42.226615Z"
    }
   },
   "outputs": [
    {
     "name": "stdout",
     "output_type": "stream",
     "text": [
      "The GRS stat for this model is 3.1765811560751165\n",
      "The GRS stat for this model is 3.3432127684005932\n",
      "The GRS stat for this model is 4.047110643600798\n"
     ]
    }
   ],
   "source": [
    "def grsstat(T,N,K,model):\n",
    "    alphas = pd.Series()\n",
    "    matrix = pd.DataFrame()\n",
    "    for i in range(0,len(portfolios25.columns)):\n",
    "        y = portfolios25.iloc[:,i] - model.loc[:,'RF']\n",
    "        x = model.drop('RF', axis=1)\n",
    "        mod = sm.OLS(y, x)\n",
    "        res = mod.fit()\n",
    "        alphas[i] = res.params.loc[\"CONS\"]\n",
    "        matrix[portfolios25.columns[i]] = res.resid\n",
    "\n",
    "    alphas = alphas.to_frame()\n",
    "    for j in range(0,len(matrix)):\n",
    "        resid1 = matrix.iloc[j].to_frame() @ matrix.iloc[j].to_frame().transpose()\n",
    "        if j == 0:\n",
    "            sigmasum = resid1\n",
    "        else:\n",
    "            sigmasum = sigmasum + resid1\n",
    "    sigma = sigmasum/732\n",
    "    sigmainverse = np.linalg.inv(sigma)\n",
    "    factor = model.drop(['RF','CONS'], axis=1)\n",
    "    for g in range(0,len(matrix)):\n",
    "        diff = factor.iloc[g] - factor.mean()\n",
    "        covar = diff.to_frame() @ diff.to_frame().transpose()\n",
    "        if g == 0:\n",
    "            omegasum = covar\n",
    "        else:\n",
    "            omegasum = omegasum + covar\n",
    "\n",
    "    omega = omegasum/732\n",
    "    omegainverse = np.linalg.inv(omega)\n",
    "\n",
    "    factor_mean = factor.mean().to_frame()\n",
    "    temp = factor_mean.T @ omegainverse\n",
    "    temp.columns = factor_mean.index\n",
    "    lhs = (temp @ factor_mean + 1) ** -1\n",
    "    rhs = alphas.T @ sigmainverse @ alphas\n",
    "    grs = (((T-N-K)/N) * lhs * rhs).iloc[0,0]\n",
    "    print(f\"The GRS stat for this model is {grs}\")\n",
    "\n",
    "grsstat(732,25,5,ff5)\n",
    "grsstat(732,25,4,ff3_mom)\n",
    "grsstat(732,25,4,ff3_rev)\n"
   ]
  },
  {
   "cell_type": "code",
   "execution_count": null,
   "id": "5dc77241de3ea31d",
   "metadata": {
    "ExecuteTime": {
     "end_time": "2025-02-04T20:35:59.219077Z",
     "start_time": "2025-02-04T20:35:59.137732Z"
    }
   },
   "outputs": [
    {
     "name": "stdout",
     "output_type": "stream",
     "text": [
      "The GRS stat for this model is 3.176581156075117\n",
      "The GRS stat for this model is 3.343212768400592\n",
      "The GRS stat for this model is 4.047110643600795\n"
     ]
    }
   ],
   "source": [
    "def grsstatalt(T,N,K,model):\n",
    "    alphas = pd.Series()\n",
    "    matrix = pd.DataFrame()\n",
    "    for i in range(0,len(portfolios25.columns)):\n",
    "        y = portfolios25.iloc[:,i] - model.loc[:,'RF']\n",
    "        x = model.drop('RF', axis=1)\n",
    "        mod = sm.OLS(y, x)\n",
    "        res = mod.fit()\n",
    "        alphas[i] = res.params.loc[\"CONS\"]\n",
    "        matrix[portfolios25.columns[i]] = res.resid\n",
    "\n",
    "    alphas = alphas.to_frame()\n",
    "    sigma = np.cov(matrix, rowvar=False, bias=True)\n",
    "    sigmainverse = np.linalg.inv(sigma)\n",
    "    factor = model.drop(['RF','CONS'], axis=1)\n",
    "    omega = np.cov(factor, rowvar=False, bias=True)\n",
    "    omegainverse = np.linalg.inv(omega)\n",
    "\n",
    "    factor_mean = factor.mean().to_frame()\n",
    "    temp = factor_mean.T @ omegainverse\n",
    "    temp.columns = factor_mean.index\n",
    "    lhs = (temp @ factor_mean + 1) ** -1\n",
    "    rhs = alphas.T @ sigmainverse @ alphas\n",
    "    grs = (((T-N-K)/N) * lhs * rhs).iloc[0,0]\n",
    "    print(f\"The GRS stat for this model is {grs}\")\n",
    "\n",
    "grsstatalt(732,25,5,ff5)\n",
    "grsstatalt(732,25,4,ff3_mom)\n",
    "grsstatalt(732,25,4,ff3_rev)\n"
   ]
  },
  {
   "cell_type": "code",
   "execution_count": null,
   "id": "306b8782",
   "metadata": {},
   "outputs": [
    {
     "ename": "NameError",
     "evalue": "name 'pd' is not defined",
     "output_type": "error",
     "traceback": [
      "\u001b[0;31m---------------------------------------------------------------------------\u001b[0m",
      "\u001b[0;31mNameError\u001b[0m                                 Traceback (most recent call last)",
      "Cell \u001b[0;32mIn[1], line 1\u001b[0m\n\u001b[0;32m----> 1\u001b[0m tony \u001b[38;5;241m=\u001b[39m \u001b[43mpd\u001b[49m\u001b[38;5;241m.\u001b[39mread_csv(\u001b[38;5;124m\"\u001b[39m\u001b[38;5;124mmerge_d.csv\u001b[39m\u001b[38;5;124m\"\u001b[39m)\n",
      "\u001b[0;31mNameError\u001b[0m: name 'pd' is not defined"
     ]
    }
   ],
   "source": [
    "tony = pd.read_csv(\"merge_d.csv\")"
   ]
  },
  {
   "cell_type": "markdown",
   "id": "126b6261ffe9897f",
   "metadata": {},
   "source": [
    "Part (c) regressions - Cross Sectional"
   ]
  },
  {
   "cell_type": "code",
   "execution_count": null,
   "id": "14fa4dca81967774",
   "metadata": {
    "ExecuteTime": {
     "end_time": "2025-02-04T20:33:41.049304Z",
     "start_time": "2025-02-04T20:33:41.032435Z"
    }
   },
   "outputs": [
    {
     "name": "stdout",
     "output_type": "stream",
     "text": [
      "The t-statistic for this model : Mkt-RF   -1.095852\n",
      "SMB       2.245241\n",
      "HML       2.376790\n",
      "RMW       2.847728\n",
      "CMA       0.303824\n",
      "CONS      3.293718\n",
      "dtype: float64\n",
      "The corrected t-statistic for this model is Mkt-RF   -1.093230\n",
      "SMB       2.188454\n",
      "HML       2.329012\n",
      "RMW       2.748875\n",
      "CMA       0.290773\n",
      "CONS      3.293718\n",
      "dtype: float64\n",
      "The t-statistic for this model : Mkt-RF   -0.044209\n",
      "SMB       0.916669\n",
      "HML       3.130605\n",
      "Mom       3.405397\n",
      "CONS      2.270480\n",
      "dtype: float64\n",
      "The corrected t-statistic for this model is Mkt-RF   -0.044204\n",
      "SMB       0.905158\n",
      "HML       3.107085\n",
      "Mom       3.405232\n",
      "CONS      2.270480\n",
      "dtype: float64\n",
      "The t-statistic for this model : Mkt-RF   -1.735135\n",
      "SMB       1.030179\n",
      "HML       3.032371\n",
      "ST_Rev   -2.867725\n",
      "CONS      4.318588\n",
      "dtype: float64\n",
      "The corrected t-statistic for this model is Mkt-RF   -1.721281\n",
      "SMB       0.979988\n",
      "HML       2.912165\n",
      "ST_Rev   -2.798297\n",
      "CONS      4.318588\n",
      "dtype: float64\n"
     ]
    }
   ],
   "source": [
    "#Defining Cross Sectional Function\n",
    "def fama1973test(T, model):\n",
    "    #First Pass\n",
    "    first = sm.OLS(portfolios25.sub(model['RF'],axis = 0),model.drop(['RF'], axis=1))\n",
    "    firstres = first.fit()\n",
    "    betas = firstres.params\n",
    "    betas.columns = portfolios25.columns\n",
    "    betas = betas.T\n",
    "    betas[\"CONS\"] = np.ones(len(betas))\n",
    "\n",
    "    #Second Pass\n",
    "    second = sm.OLS(portfolios25.sub(model['RF'],axis = 0).T, betas)\n",
    "    secondres = second.fit()\n",
    "    means = secondres.params.mean(axis=1)\n",
    "    se = secondres.params.sub(means,axis = 0) **2\n",
    "    sse = se.sum(axis=1)\n",
    "    var = sse/(T**2)\n",
    "    t_stat = means/(var**(1/2))\n",
    "    factors = model.drop(['RF','CONS'], axis=1)\n",
    "    factors_mean = factors.mean()\n",
    "    factors_var = factors.var()\n",
    "    correction = (factors_mean - means[\"CONS\"])**2/factors_var +1\n",
    "    correction[\"CONS\"] = 1\n",
    "    t_stat_corrected = means/((var*correction)**(1/2))\n",
    "    print(f\"The t-statistic for this model :\"\n",
    "          f\" {t_stat}\")\n",
    "    print(f\"The corrected t-statistic for this model is \"\n",
    "          f\"{t_stat_corrected}\")\n",
    "\n",
    "fama1973test(732,ff5)\n",
    "fama1973test(732,ff3_mom)\n",
    "fama1973test(732,ff3_rev)\n",
    "\n"
   ]
  }
 ],
 "metadata": {
  "kernelspec": {
   "display_name": "Python 3",
   "language": "python",
   "name": "python3"
  },
  "language_info": {
   "codemirror_mode": {
    "name": "ipython",
    "version": 3
   },
   "file_extension": ".py",
   "mimetype": "text/x-python",
   "name": "python",
   "nbconvert_exporter": "python",
   "pygments_lexer": "ipython3",
   "version": "3.12.1"
  }
 },
 "nbformat": 4,
 "nbformat_minor": 5
}
